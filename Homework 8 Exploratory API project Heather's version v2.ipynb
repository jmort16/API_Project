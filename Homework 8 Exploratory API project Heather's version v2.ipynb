{
 "cells": [
  {
   "cell_type": "markdown",
   "id": "292c438a",
   "metadata": {},
   "source": [
    "# Group API Project\n",
    "Crime vs. Unemployment Rates"
   ]
  },
  {
   "cell_type": "markdown",
   "id": "2d17bfc3",
   "metadata": {},
   "source": [
    "What if any relationship is there between national property crimes rates versus unemployment rates in 2010? in 2020?\n",
    "\n",
    "Is there a noticeable difference between the years? Is there a potential correlation between crime and unemployment rates? Is there a stronger correlation in one subgroup of property crimes than the others?"
   ]
  },
  {
   "cell_type": "markdown",
   "id": "6ae1fd51",
   "metadata": {},
   "source": [
    "### Presentation\n",
    "We're extracting data from the FBI and the Bureau of Labor Statistics. \n",
    "\n",
    "\"The Crime Data Explorer (CDE) is the FBI’s Uniform Crime Reporting (UCR) Program's dynamic solution to presenting crime data in a more immediate venue that reflects the constant change in the nation’s crime circumstance.\n",
    "\n",
    "The CDE pages provide a view of estimated national and state data, reported agency-level crime statistics, and graphs of specific variables from the National Incident-Based Reporting System (NIBRS).\"\n",
    "\n",
    "\"Since 1930, participating local, county, state, tribal, and federal law enforcement agencies have voluntarily provided the nation with crime statistics through the Uniform Crime Reporting (UCR) Program\" via the Summary Reporting System (SRS) data from 1979, and the National Incident-Based Reporting System (NIBRS) data from 1991 on. As of January 1, 2021, NIBRS will be used exclusively; some of the data will be reported in SRS standard to maintain continuity and compatibility of data.\n",
    "\n",
    "-- https://crime-data-explorer.fr.cloud.gov/pages/about\n",
    "\n",
    "\n",
    "list which subcategories we're going to be analyzing\n",
    "\n",
    "\n",
    "### Definitions:\n",
    "\n",
    "property crime: a category of crime, usually involving private property, that includes burglary, larceny, theft, motor vehicle theft, arson, shoplifting, and vandalism\n",
    "\n",
    "burglary: entry into a building with the intent to commit a crime, most often theft, robbery, or murder\n",
    "\n",
    "robbery: taking property unlawfully from a person or place by force or threat of force\n",
    "\n",
    "larceny: the theft of physical items that are personal property, without threat of force (theft includes all variations on stealing property from another person or entity)"
   ]
  },
  {
   "cell_type": "code",
   "execution_count": 6,
   "id": "f7c18aec",
   "metadata": {},
   "outputs": [],
   "source": [
    "import requests\n",
    "import pandas as pd\n",
    "import matplotlib.pyplot as plt\n",
    "import numpy as np\n",
    "import time\n",
    "from pprint import pprint\n",
    "import citipy\n",
    "import json\n",
    "from citipy import citipy\n",
    "import seaborn as sns\n",
    "import prettytable\n",
    "\n",
    "#Federal Bureau of Investigation\n",
    "#Crime Data Explorer\n",
    "FBI_api_key=\"HXzuNSaaIO46x38N0iVVKpMDgrP6GG3mxBcacgRH\"\n",
    "\n",
    "#U.S. Bureau of Labor Statistics\n",
    "BLS_api_key=\"489c914f30b34dac8ebc65feb25a15df\""
   ]
  },
  {
   "cell_type": "markdown",
   "id": "d585f20e",
   "metadata": {},
   "source": [
    "## Performing the API Calls and Collecting the Data"
   ]
  },
  {
   "cell_type": "code",
   "execution_count": 36,
   "id": "c2cbaf48",
   "metadata": {},
   "outputs": [
    {
     "name": "stdout",
     "output_type": "stream",
     "text": [
      "{'results': [{'incident_count': 586634, 'offense_count': 586634, 'data_year': 2012}, {'incident_count': 441958, 'offense_count': 441958, 'data_year': 2017}, {'incident_count': 118407, 'offense_count': 118407, 'data_year': 1996}, {'incident_count': 503226, 'offense_count': 503226, 'data_year': 2007}, {'incident_count': 268195, 'offense_count': 268195, 'data_year': 2000}, {'incident_count': 191758, 'offense_count': 191758, 'data_year': 1998}, {'incident_count': 155620, 'offense_count': 155620, 'data_year': 1997}, {'incident_count': 452673, 'offense_count': 452673, 'data_year': 2005}, {'incident_count': 105132, 'offense_count': 105132, 'data_year': 1994}, {'incident_count': 462509, 'offense_count': 462509, 'data_year': 2016}, {'incident_count': 341899, 'offense_count': 341899, 'data_year': 2002}, {'incident_count': 585312, 'offense_count': 585312, 'data_year': 2011}, {'incident_count': 523497, 'offense_count': 523497, 'data_year': 2008}, {'incident_count': 553970, 'offense_count': 553970, 'data_year': 2009}, {'incident_count': 491186, 'offense_count': 491186, 'data_year': 2006}, {'incident_count': 355539, 'offense_count': 355539, 'data_year': 2003}, {'incident_count': 396697, 'offense_count': 396697, 'data_year': 2004}, {'incident_count': 108976, 'offense_count': 108976, 'data_year': 1993}, {'incident_count': 522426, 'offense_count': 522426, 'data_year': 2020}, {'incident_count': 494159, 'offense_count': 494159, 'data_year': 2019}, {'incident_count': 209362, 'offense_count': 209362, 'data_year': 1999}, {'incident_count': 462537, 'offense_count': 462537, 'data_year': 2015}, {'incident_count': 482371, 'offense_count': 482371, 'data_year': 2014}, {'incident_count': 106919, 'offense_count': 106919, 'data_year': 1992}, {'incident_count': 92719, 'offense_count': 92719, 'data_year': 1991}, {'incident_count': 311733, 'offense_count': 311733, 'data_year': 2001}, {'incident_count': 95113, 'offense_count': 95113, 'data_year': 1995}, {'incident_count': 570557, 'offense_count': 570557, 'data_year': 2010}, {'incident_count': 434631, 'offense_count': 434631, 'data_year': 2018}, {'incident_count': 537536, 'offense_count': 537536, 'data_year': 2013}], 'pagination': {'count': 30, 'page': 0, 'pages': 1, 'per_page': 0}}\n"
     ]
    }
   ],
   "source": [
    "#FBI JSON request\n",
    "#base_url: https://api.usa.gov/crime/fbi/sapi/api/data/nibrs/{burglary}/offense/national/{count}\n",
    "headers = {\"Incident\": \"incident_count\", \"Offense\": \"offense_count\", \"Year\": \"data_year\"}\n",
    "#burglary, count\n",
    "fbi_burglary_ct = requests.get('https://api.usa.gov/crime/fbi/sapi/api/data/nibrs/burglary-breaking-and-entering/offense/national/count/?limit=1&api_key=HXzuNSaaIO46x38N0iVVKpMDgrP6GG3mxBcacgRH', data=data, headers=headers)\n",
    "fbi_json_bur_ct = json.loads(fbi_burglary_ct.text)\n"
   ]
  },
  {
   "cell_type": "code",
   "execution_count": 40,
   "id": "5734850f",
   "metadata": {},
   "outputs": [],
   "source": [
    "#cleaning and reformatting the data\n",
    "raw_fbi_bur_ct = []\n",
    "raw_fbi_bur_ct.append(fbi_json_bur_ct)\n",
    "fbi_unformed_bur_ct = pd.json_normalize(raw_fbi_bur_ct, record_path = [\"results\"])\n",
    "fbi_unformed_bur_ct.to_csv('fbi_unformed_bur_ct_csv.csv')"
   ]
  },
  {
   "cell_type": "code",
   "execution_count": 1,
   "id": "e7ee3b31",
   "metadata": {},
   "outputs": [],
   "source": [
    "#burglary, property_stolen\n",
    "#fbi_burglary_prop = requests.get('https://api.usa.gov/crime/fbi/sapi/api/data/nibrs/burglary-breaking-and-entering/offense/national/property_stolen/?limit=1&api_key=HXzuNSaaIO46x38N0iVVKpMDgrP6GG3mxBcacgRH', data=data, headers=headers)\n",
    "#fbi_json_data_bur_prop = json.loads(fbi_burglary_prop.text)\n"
   ]
  },
  {
   "cell_type": "code",
   "execution_count": 42,
   "id": "dc57b5ba",
   "metadata": {},
   "outputs": [],
   "source": [
    "#cleaning and reformatting the data\n",
    "#raw_fbi_bur_prop = []\n",
    "#raw_fbi_bur_prop.append(fbi_json_data_bur_prop)\n",
    "#fbi_unformed_bur_prop = pd.json_normalize(raw_fbi_bur_prop, record_path = [\"results\"])\n",
    "#fbi_data_unformed_bur = fbi_data_unformed_bur.set_index(\"ui_type\")\n",
    "#fbi_unformed_bur_prop.to_csv('fbi_unformed_bur_prop_csv.csv')"
   ]
  },
  {
   "cell_type": "code",
   "execution_count": null,
   "id": "e9fbcee5",
   "metadata": {},
   "outputs": [],
   "source": [
    "#robbery, property stolen\n",
    "#https://api.usa.gov/crime/fbi/sapi/api/data/nibrs/robbery/offense/national/PROPERTY_STOLEN/?limit=1&api_key=HXzuNSaaIO46x38N0iVVKpMDgrP6GG3mxBcacgRH\n",
    "#larceny, property_stolen\n",
    "#https://api.usa.gov/crime/fbi/sapi/api/data/nibrs/larceny-theft-offenses/offense/national/property_stolen/?limit=1&api_key=HXzuNSaaIO46x38N0iVVKpMDgrP6GG3mxBcacgRH"
   ]
  },
  {
   "cell_type": "code",
   "execution_count": 2,
   "id": "04eb0be5",
   "metadata": {},
   "outputs": [
    {
     "ename": "NameError",
     "evalue": "name 'requests' is not defined",
     "output_type": "error",
     "traceback": [
      "\u001b[0;31m---------------------------------------------------------------------------\u001b[0m",
      "\u001b[0;31mNameError\u001b[0m                                 Traceback (most recent call last)",
      "\u001b[0;32m/var/folders/_g/ndr230vr8xj4_h001s7lzdlh0000gp/T/ipykernel_19477/3740478182.py\u001b[0m in \u001b[0;36m<module>\u001b[0;34m\u001b[0m\n\u001b[1;32m      1\u001b[0m \u001b[0;31m#robbery, count\u001b[0m\u001b[0;34m\u001b[0m\u001b[0;34m\u001b[0m\u001b[0m\n\u001b[0;32m----> 2\u001b[0;31m \u001b[0mfbi_robbery_ct\u001b[0m \u001b[0;34m=\u001b[0m \u001b[0mrequests\u001b[0m\u001b[0;34m.\u001b[0m\u001b[0mget\u001b[0m\u001b[0;34m(\u001b[0m\u001b[0;34m'https://api.usa.gov/crime/fbi/sapi/api/data/nibrs/robbery/offense/national/count/?limit=1&api_key=HXzuNSaaIO46x38N0iVVKpMDgrP6GG3mxBcacgRH'\u001b[0m\u001b[0;34m)\u001b[0m\u001b[0;34m\u001b[0m\u001b[0;34m\u001b[0m\u001b[0m\n\u001b[0m\u001b[1;32m      3\u001b[0m \u001b[0mfbi_json_robbery_ct\u001b[0m \u001b[0;34m=\u001b[0m \u001b[0mjson\u001b[0m\u001b[0;34m.\u001b[0m\u001b[0mloads\u001b[0m\u001b[0;34m(\u001b[0m\u001b[0mfbi_robbery_ct\u001b[0m\u001b[0;34m.\u001b[0m\u001b[0mtext\u001b[0m\u001b[0;34m)\u001b[0m\u001b[0;34m\u001b[0m\u001b[0;34m\u001b[0m\u001b[0m\n",
      "\u001b[0;31mNameError\u001b[0m: name 'requests' is not defined"
     ]
    }
   ],
   "source": [
    "#robbery, count\n",
    "fbi_robbery_ct = requests.get('https://api.usa.gov/crime/fbi/sapi/api/data/nibrs/robbery/offense/national/count/?limit=1&api_key=HXzuNSaaIO46x38N0iVVKpMDgrP6GG3mxBcacgRH')\n",
    "fbi_json_robbery_ct = json.loads(fbi_robbery_ct.text)\n"
   ]
  },
  {
   "cell_type": "code",
   "execution_count": 44,
   "id": "0f2db74a",
   "metadata": {},
   "outputs": [],
   "source": [
    "#cleaning and reformatting the data\n",
    "raw_fbi_robbery_ct = []\n",
    "raw_fbi_robbery_ct.append(fbi_json_robbery_ct)\n",
    "fbi_unformed_robbery_ct = pd.json_normalize(raw_fbi_robbery_ct, record_path = [\"results\"])\n",
    "fbi_unformed_robbery_ct.to_csv('fbi_unformed_robbery_ct_csv.csv')"
   ]
  },
  {
   "cell_type": "code",
   "execution_count": 45,
   "id": "5d86cd80",
   "metadata": {},
   "outputs": [
    {
     "name": "stdout",
     "output_type": "stream",
     "text": [
      "{'results': [{'incident_count': 5625, 'offense_count': 5625, 'data_year': 2015}, {'incident_count': 2413, 'offense_count': 2413, 'data_year': 1992}, {'incident_count': 204092, 'offense_count': 204092, 'data_year': 2005}, {'incident_count': 3052, 'offense_count': 3052, 'data_year': 2000}, {'incident_count': 6209, 'offense_count': 6209, 'data_year': 2007}, {'incident_count': 82094, 'offense_count': 82094, 'data_year': 1997}, {'incident_count': 903, 'offense_count': 903, 'data_year': 1996}, {'incident_count': 3910, 'offense_count': 3910, 'data_year': 2014}, {'incident_count': 162511, 'offense_count': 162511, 'data_year': 1993}, {'incident_count': 436104, 'offense_count': 436104, 'data_year': 2017}, {'incident_count': 391497, 'offense_count': 391497, 'data_year': 2012}, {'incident_count': 3791, 'offense_count': 3791, 'data_year': 2015}, {'incident_count': 1438, 'offense_count': 1438, 'data_year': 1992}, {'incident_count': 90774, 'offense_count': 90774, 'data_year': 1998}, {'incident_count': 102839, 'offense_count': 102839, 'data_year': 2002}, {'incident_count': 176445, 'offense_count': 176445, 'data_year': 2004}, {'incident_count': 5605, 'offense_count': 5605, 'data_year': 2014}, {'incident_count': 22117, 'offense_count': 22117, 'data_year': 1993}, {'incident_count': 1299, 'offense_count': 1299, 'data_year': 1991}, {'incident_count': 8697, 'offense_count': 8697, 'data_year': 2001}, {'incident_count': 1704, 'offense_count': 1704, 'data_year': 1991}, {'incident_count': 85692, 'offense_count': 85692, 'data_year': 1996}, {'incident_count': 7320, 'offense_count': 7320, 'data_year': 2017}, {'incident_count': 563989, 'offense_count': 563989, 'data_year': 2004}, {'incident_count': 7077, 'offense_count': 7077, 'data_year': 2012}, {'incident_count': 4555, 'offense_count': 4555, 'data_year': 2001}, {'incident_count': 245703, 'offense_count': 245703, 'data_year': 2000}, {'incident_count': 34306, 'offense_count': 34306, 'data_year': 1994}, {'incident_count': 80886, 'offense_count': 80886, 'data_year': 2016}, {'incident_count': 365390, 'offense_count': 365390, 'data_year': 2007}, {'incident_count': 133622, 'offense_count': 133622, 'data_year': 2006}, {'incident_count': 62975, 'offense_count': 62975, 'data_year': 1996}, {'incident_count': 5007, 'offense_count': 5007, 'data_year': 2005}, {'incident_count': 843988, 'offense_count': 843988, 'data_year': 2019}, {'incident_count': 131122, 'offense_count': 131122, 'data_year': 2000}, {'incident_count': 118673, 'offense_count': 118673, 'data_year': 2009}, {'incident_count': 1893, 'offense_count': 1893, 'data_year': 1995}, {'incident_count': 1209, 'offense_count': 1209, 'data_year': 1997}, {'incident_count': 229988, 'offense_count': 229988, 'data_year': 2007}, {'incident_count': 325036, 'offense_count': 325036, 'data_year': 1999}, {'incident_count': 194512, 'offense_count': 194512, 'data_year': 2020}, {'incident_count': 1091, 'offense_count': 1091, 'data_year': 1995}, {'incident_count': 112921, 'offense_count': 112921, 'data_year': 2003}, {'incident_count': 1824, 'offense_count': 1824, 'data_year': 1998}, {'incident_count': 4447, 'offense_count': 4447, 'data_year': 2013}, {'incident_count': 219479, 'offense_count': 219479, 'data_year': 2019}, {'incident_count': 104438, 'offense_count': 104438, 'data_year': 2011}, {'incident_count': 172497, 'offense_count': 172497, 'data_year': 1998}, {'incident_count': 6308, 'offense_count': 6308, 'data_year': 2018}, {'incident_count': 6538, 'offense_count': 6538, 'data_year': 2010}, {'incident_count': 340829, 'offense_count': 340829, 'data_year': 2005}, {'incident_count': 914347, 'offense_count': 914347, 'data_year': 2020}, {'incident_count': 6200, 'offense_count': 6200, 'data_year': 2013}, {'incident_count': 128936, 'offense_count': 128936, 'data_year': 2008}, {'incident_count': 132131, 'offense_count': 132131, 'data_year': 1997}, {'incident_count': 3944, 'offense_count': 3944, 'data_year': 2018}, {'incident_count': 107014, 'offense_count': 107014, 'data_year': 1999}, {'incident_count': 331289, 'offense_count': 331289, 'data_year': 2012}, {'incident_count': 390067, 'offense_count': 390067, 'data_year': 2017}, {'incident_count': 5471, 'offense_count': 5471, 'data_year': 2010}, {'incident_count': 174105, 'offense_count': 174105, 'data_year': 2003}, {'incident_count': 214014, 'offense_count': 214014, 'data_year': 2015}, {'incident_count': 3824, 'offense_count': 3824, 'data_year': 2002}, {'incident_count': 90653, 'offense_count': 90653, 'data_year': 1991}, {'incident_count': 9349, 'offense_count': 9349, 'data_year': 2004}, {'incident_count': 452512, 'offense_count': 452512, 'data_year': 2001}, {'incident_count': 70411, 'offense_count': 70411, 'data_year': 2000}, {'incident_count': 293415, 'offense_count': 293415, 'data_year': 2009}, {'incident_count': 69524, 'offense_count': 69524, 'data_year': 1994}, {'incident_count': 423196, 'offense_count': 423196, 'data_year': 2016}, {'incident_count': 25002, 'offense_count': 25002, 'data_year': 1992}, {'incident_count': 127253, 'offense_count': 127253, 'data_year': 2007}, {'incident_count': 200217, 'offense_count': 200217, 'data_year': 2006}, {'incident_count': 36513, 'offense_count': 36513, 'data_year': 1996}, {'incident_count': 5971, 'offense_count': 5971, 'data_year': 2004}, {'incident_count': 222097, 'offense_count': 222097, 'data_year': 2014}, {'incident_count': 1090, 'offense_count': 1090, 'data_year': 1993}, {'incident_count': 85734, 'offense_count': 85734, 'data_year': 2017}, {'incident_count': 17295, 'offense_count': 17295, 'data_year': 1991}, {'incident_count': 94775, 'offense_count': 94775, 'data_year': 2012}, {'incident_count': 659157, 'offense_count': 659157, 'data_year': 2015}, {'incident_count': 430, 'offense_count': 430, 'data_year': 1994}, {'incident_count': 7194, 'offense_count': 7194, 'data_year': 2016}, {'incident_count': 257024, 'offense_count': 257024, 'data_year': 2008}, {'incident_count': 673895, 'offense_count': 673895, 'data_year': 2014}, {'incident_count': 2533, 'offense_count': 2533, 'data_year': 1993}, {'incident_count': 120099, 'offense_count': 120099, 'data_year': 1992}, {'incident_count': 160727, 'offense_count': 160727, 'data_year': 2001}, {'incident_count': 301162, 'offense_count': 301162, 'data_year': 2002}, {'incident_count': 290203, 'offense_count': 290203, 'data_year': 2011}, {'incident_count': 649818, 'offense_count': 649818, 'data_year': 2010}, {'incident_count': 3969, 'offense_count': 3969, 'data_year': 2003}, {'incident_count': 5009, 'offense_count': 5009, 'data_year': 2020}, {'incident_count': 387586, 'offense_count': 387586, 'data_year': 2011}, {'incident_count': 711662, 'offense_count': 711662, 'data_year': 2018}, {'incident_count': 41897, 'offense_count': 41897, 'data_year': 1998}, {'incident_count': 167668, 'offense_count': 167668, 'data_year': 2002}, {'incident_count': 5853, 'offense_count': 5853, 'data_year': 2006}, {'incident_count': 134495, 'offense_count': 134495, 'data_year': 2005}, {'incident_count': 6113, 'offense_count': 6113, 'data_year': 2009}, {'incident_count': 379720, 'offense_count': 379720, 'data_year': 2008}, {'incident_count': 41083, 'offense_count': 41083, 'data_year': 1997}, {'incident_count': 698405, 'offense_count': 698405, 'data_year': 2013}, {'incident_count': 7010, 'offense_count': 7010, 'data_year': 2020}, {'incident_count': 38206, 'offense_count': 38206, 'data_year': 1995}, {'incident_count': 414142, 'offense_count': 414142, 'data_year': 2009}, {'incident_count': 7819, 'offense_count': 7819, 'data_year': 2019}, {'incident_count': 197179, 'offense_count': 197179, 'data_year': 2018}, {'incident_count': 6171, 'offense_count': 6171, 'data_year': 2008}, {'incident_count': 54559, 'offense_count': 54559, 'data_year': 1994}, {'incident_count': 387829, 'offense_count': 387829, 'data_year': 2016}, {'incident_count': 357646, 'offense_count': 357646, 'data_year': 2006}, {'incident_count': 213582, 'offense_count': 213582, 'data_year': 2010}, {'incident_count': 4862, 'offense_count': 4862, 'data_year': 1999}, {'incident_count': 234070, 'offense_count': 234070, 'data_year': 2013}, {'incident_count': 4782, 'offense_count': 4782, 'data_year': 2019}, {'incident_count': 290198, 'offense_count': 290198, 'data_year': 2003}, {'incident_count': 142996, 'offense_count': 142996, 'data_year': 1995}, {'incident_count': 6020, 'offense_count': 6020, 'data_year': 2011}, {'incident_count': 2782, 'offense_count': 2782, 'data_year': 1999}, {'incident_count': 102561, 'offense_count': 102561, 'data_year': 1999}, {'incident_count': 21980, 'offense_count': 21980, 'data_year': 1991}, {'incident_count': 204493, 'offense_count': 204493, 'data_year': 2017}, {'incident_count': 237507, 'offense_count': 237507, 'data_year': 2012}, {'incident_count': 2234, 'offense_count': 2234, 'data_year': 1994}, {'incident_count': 3657, 'offense_count': 3657, 'data_year': 2016}, {'incident_count': 308000, 'offense_count': 308000, 'data_year': 2004}, {'incident_count': 336, 'offense_count': 336, 'data_year': 1993}, {'incident_count': 178529, 'offense_count': 178529, 'data_year': 1996}, {'incident_count': 1058, 'offense_count': 1058, 'data_year': 1994}, {'incident_count': 6073, 'offense_count': 6073, 'data_year': 2016}, {'incident_count': 654468, 'offense_count': 654468, 'data_year': 2007}, {'incident_count': 86583, 'offense_count': 86583, 'data_year': 2001}, {'incident_count': 425705, 'offense_count': 425705, 'data_year': 2000}, {'incident_count': 505204, 'offense_count': 505204, 'data_year': 2019}, {'incident_count': 9046, 'offense_count': 9046, 'data_year': 2002}, {'incident_count': 502563, 'offense_count': 502563, 'data_year': 2020}, {'incident_count': 77496, 'offense_count': 77496, 'data_year': 2015}, {'incident_count': 682679, 'offense_count': 682679, 'data_year': 2017}, {'incident_count': 4439, 'offense_count': 4439, 'data_year': 2004}, {'incident_count': 67110, 'offense_count': 67110, 'data_year': 1993}, {'incident_count': 717995, 'offense_count': 717995, 'data_year': 2012}, {'incident_count': 4888, 'offense_count': 4888, 'data_year': 2002}, {'incident_count': 142667, 'offense_count': 142667, 'data_year': 2000}, {'incident_count': 33521, 'offense_count': 33521, 'data_year': 1992}, {'incident_count': 205812, 'offense_count': 205812, 'data_year': 2007}, {'incident_count': 50289, 'offense_count': 50289, 'data_year': 1996}, {'incident_count': 79405, 'offense_count': 79405, 'data_year': 2014}, {'incident_count': 6276, 'offense_count': 6276, 'data_year': 2008}, {'incident_count': 6072, 'offense_count': 6072, 'data_year': 2011}, {'incident_count': 281363, 'offense_count': 281363, 'data_year': 1998}, {'incident_count': 95961, 'offense_count': 95961, 'data_year': 2018}, {'incident_count': 2109, 'offense_count': 2109, 'data_year': 1999}, {'incident_count': 115177, 'offense_count': 115177, 'data_year': 2010}, {'incident_count': 237725, 'offense_count': 237725, 'data_year': 1997}, {'incident_count': 6877, 'offense_count': 6877, 'data_year': 2008}, {'incident_count': 86898, 'offense_count': 86898, 'data_year': 2013}, {'incident_count': 657197, 'offense_count': 657197, 'data_year': 2020}, {'incident_count': 5684, 'offense_count': 5684, 'data_year': 2011}, {'incident_count': 621012, 'offense_count': 621012, 'data_year': 2005}, {'incident_count': 9751, 'offense_count': 9751, 'data_year': 2019}, {'incident_count': 53711, 'offense_count': 53711, 'data_year': 1993}, {'incident_count': 194086, 'offense_count': 194086, 'data_year': 2004}, {'incident_count': 6999, 'offense_count': 6999, 'data_year': 2006}, {'incident_count': 8703, 'offense_count': 8703, 'data_year': 2020}, {'incident_count': 6924, 'offense_count': 6924, 'data_year': 2009}, {'incident_count': 565548, 'offense_count': 565548, 'data_year': 2019}, {'incident_count': 9517, 'offense_count': 9517, 'data_year': 2003}, {'incident_count': 88867, 'offense_count': 88867, 'data_year': 1998}, {'incident_count': 192641, 'offense_count': 192641, 'data_year': 1999}, {'incident_count': 8282, 'offense_count': 8282, 'data_year': 2006}, {'incident_count': 194430, 'offense_count': 194430, 'data_year': 2005}, {'incident_count': 6080, 'offense_count': 6080, 'data_year': 2009}, {'incident_count': 72235, 'offense_count': 72235, 'data_year': 1997}, {'incident_count': 5049, 'offense_count': 5049, 'data_year': 2003}, {'incident_count': 30993, 'offense_count': 30993, 'data_year': 1995}, {'incident_count': 35987, 'offense_count': 35987, 'data_year': 1993}, {'incident_count': 5928, 'offense_count': 5928, 'data_year': 2017}, {'incident_count': 6364, 'offense_count': 6364, 'data_year': 2012}, {'incident_count': 350693, 'offense_count': 350693, 'data_year': 2013}, {'incident_count': 380920, 'offense_count': 380920, 'data_year': 2015}, {'incident_count': 3656, 'offense_count': 3656, 'data_year': 2001}, {'incident_count': 3885, 'offense_count': 3885, 'data_year': 2017}, {'incident_count': 277907, 'offense_count': 277907, 'data_year': 2010}, {'incident_count': 5709, 'offense_count': 5709, 'data_year': 2012}, {'incident_count': 6428, 'offense_count': 6428, 'data_year': 1991}, {'incident_count': 356587, 'offense_count': 356587, 'data_year': 2014}, {'incident_count': 466657, 'offense_count': 466657, 'data_year': 2002}, {'incident_count': 415107, 'offense_count': 415107, 'data_year': 2018}, {'incident_count': 24939, 'offense_count': 24939, 'data_year': 1994}, {'incident_count': 209612, 'offense_count': 209612, 'data_year': 2016}, {'incident_count': 57002, 'offense_count': 57002, 'data_year': 1992}, {'incident_count': 6971, 'offense_count': 6971, 'data_year': 2007}, {'incident_count': 11391, 'offense_count': 11391, 'data_year': 1992}, {'incident_count': 49438, 'offense_count': 49438, 'data_year': 1995}, {'incident_count': 6630, 'offense_count': 6630, 'data_year': 2000}, {'incident_count': 6836, 'offense_count': 6836, 'data_year': 2014}, {'incident_count': 42937, 'offense_count': 42937, 'data_year': 1991}, {'incident_count': 2322, 'offense_count': 2322, 'data_year': 1996}, {'incident_count': 164397, 'offense_count': 164397, 'data_year': 1994}, {'incident_count': 671341, 'offense_count': 671341, 'data_year': 2016}, {'incident_count': 6842, 'offense_count': 6842, 'data_year': 2007}, {'incident_count': 160409, 'offense_count': 160409, 'data_year': 2002}, {'incident_count': 280787, 'offense_count': 280787, 'data_year': 2001}, {'incident_count': 7192, 'offense_count': 7192, 'data_year': 2015}, {'incident_count': 3811, 'offense_count': 3811, 'data_year': 2000}, {'incident_count': 119456, 'offense_count': 119456, 'data_year': 2004}, {'incident_count': 1325, 'offense_count': 1325, 'data_year': 1996}, {'incident_count': 6973, 'offense_count': 6973, 'data_year': 2013}, {'incident_count': 226382, 'offense_count': 226382, 'data_year': 2011}, {'incident_count': 114779, 'offense_count': 114779, 'data_year': 2019}, {'incident_count': 616521, 'offense_count': 616521, 'data_year': 2009}, {'incident_count': 156354, 'offense_count': 156354, 'data_year': 2001}, {'incident_count': 649610, 'offense_count': 649610, 'data_year': 2006}, {'incident_count': 7686, 'offense_count': 7686, 'data_year': 2018}, {'incident_count': 202265, 'offense_count': 202265, 'data_year': 2008}, {'incident_count': 67358, 'offense_count': 67358, 'data_year': 1995}, {'incident_count': 489699, 'offense_count': 489699, 'data_year': 2003}, {'incident_count': 46706, 'offense_count': 46706, 'data_year': 1999}, {'incident_count': 5867, 'offense_count': 5867, 'data_year': 2010}, {'incident_count': 37783, 'offense_count': 37783, 'data_year': 1991}, {'incident_count': 204325, 'offense_count': 204325, 'data_year': 2006}, {'incident_count': 406194, 'offense_count': 406194, 'data_year': 2010}, {'incident_count': 374148, 'offense_count': 374148, 'data_year': 2014}, {'incident_count': 201895, 'offense_count': 201895, 'data_year': 2009}, {'incident_count': 688624, 'offense_count': 688624, 'data_year': 2011}, {'incident_count': 3285, 'offense_count': 3285, 'data_year': 1997}, {'incident_count': 2286, 'offense_count': 2286, 'data_year': 1998}, {'incident_count': 465010, 'offense_count': 465010, 'data_year': 2018}, {'incident_count': 8636, 'offense_count': 8636, 'data_year': 2005}, {'incident_count': 47059, 'offense_count': 47059, 'data_year': 1992}, {'incident_count': 686, 'offense_count': 686, 'data_year': 1995}, {'incident_count': 373265, 'offense_count': 373265, 'data_year': 2013}, {'incident_count': 164192, 'offense_count': 164192, 'data_year': 2020}, {'incident_count': 647328, 'offense_count': 647328, 'data_year': 2008}, {'incident_count': 1745, 'offense_count': 1745, 'data_year': 1997}, {'incident_count': 163445, 'offense_count': 163445, 'data_year': 2003}, {'incident_count': 3767, 'offense_count': 3767, 'data_year': 1998}, {'incident_count': 6632, 'offense_count': 6632, 'data_year': 2005}, {'incident_count': 393009, 'offense_count': 393009, 'data_year': 2015}], 'pagination': {'count': 240, 'page': 0, 'pages': 1, 'per_page': 0}}\n"
     ]
    }
   ],
   "source": [
    "#larceny, count\n",
    "fbi_larceny_ct = requests.get('https://api.usa.gov/crime/fbi/sapi/api/data/nibrs/larceny-theft-offenses/offense/national/count/?limit=1&api_key=HXzuNSaaIO46x38N0iVVKpMDgrP6GG3mxBcacgRH')\n",
    "fbi_json_larceny_ct = json.loads(fbi_larceny_ct.text)\n"
   ]
  },
  {
   "cell_type": "code",
   "execution_count": 46,
   "id": "5299d1da",
   "metadata": {},
   "outputs": [],
   "source": [
    "#cleaning and reformatting the data\n",
    "raw_fbi_larceny_ct = []\n",
    "raw_fbi_larceny_ct.append(fbi_json_larceny_ct)\n",
    "fbi_unformed_larceny_ct = pd.json_normalize(raw_fbi_larceny_ct, record_path = [\"results\"])\n",
    "fbi_unformed_larceny_ct.to_csv('fbi_unformed_larceny_ct_csv.csv')"
   ]
  },
  {
   "cell_type": "code",
   "execution_count": 59,
   "id": "5a7579d2",
   "metadata": {},
   "outputs": [
    {
     "name": "stdout",
     "output_type": "stream",
     "text": [
      "{'message': 'The NIBRS offense specified is invalid', 'status': 400}\n"
     ]
    }
   ],
   "source": [
    "#property-crime, offense count\n",
    "fbi_prcrime_ct = requests.get('https://api.usa.gov/crime/fbi/sapi/api/data/nibrs/property-crime/offense/national/count/?limit=1&api_key=HXzuNSaaIO46x38N0iVVKpMDgrP6GG3mxBcacgRH')\n",
    "fbi_json_prcrime_ct = json.loads(fbi_prcrime_ct.text)\n",
    "print(fbi_json_prcrime_ct)\n"
   ]
  },
  {
   "cell_type": "code",
   "execution_count": null,
   "id": "bd892f71",
   "metadata": {},
   "outputs": [],
   "source": []
  },
  {
   "cell_type": "code",
   "execution_count": 55,
   "id": "8d41dae2",
   "metadata": {},
   "outputs": [
    {
     "name": "stdout",
     "output_type": "stream",
     "text": [
      "{'ui_type': 'text', 'noun': None, 'category': 'Offender demographic', 'title': 'Offender Count', 'short_title': None, 'ui_restriction': None, 'keys': ['Count'], 'data': [{'value': 2679147, 'data_year': 2015, 'month_num': 0, 'key': 'Count'}, {'value': 491957, 'data_year': 1992, 'month_num': 0, 'key': 'Count'}, {'value': 2421131, 'data_year': 2005, 'month_num': 0, 'key': 'Count'}, {'value': 1573352, 'data_year': 2000, 'month_num': 0, 'key': 'Count'}, {'value': 2591680, 'data_year': 2007, 'month_num': 0, 'key': 'Count'}, {'value': 869600, 'data_year': 1997, 'month_num': 0, 'key': 'Count'}, {'value': 1191941, 'data_year': 1999, 'month_num': 0, 'key': 'Count'}, {'value': 2861553, 'data_year': 2012, 'month_num': 0, 'key': 'Count'}, {'value': 639485, 'data_year': 1996, 'month_num': 0, 'key': 'Count'}, {'value': 3473577, 'data_year': 2019, 'month_num': 0, 'key': 'Count'}, {'value': 2671874, 'data_year': 2014, 'month_num': 0, 'key': 'Count'}, {'value': 2805085, 'data_year': 2017, 'month_num': 0, 'key': 'Count'}, {'value': 533482, 'data_year': 1993, 'month_num': 0, 'key': 'Count'}, {'value': 1894351, 'data_year': 2002, 'month_num': 0, 'key': 'Count'}, {'value': 1052104, 'data_year': 1998, 'month_num': 0, 'key': 'Count'}, {'value': 2161328, 'data_year': 2004, 'month_num': 0, 'key': 'Count'}, {'value': 407835, 'data_year': 1991, 'month_num': 0, 'key': 'Count'}, {'value': 3780115, 'data_year': 2020, 'month_num': 0, 'key': 'Count'}, {'value': 1783088, 'data_year': 2001, 'month_num': 0, 'key': 'Count'}, {'value': 2765012, 'data_year': 2016, 'month_num': 0, 'key': 'Count'}, {'value': 540775, 'data_year': 1994, 'month_num': 0, 'key': 'Count'}, {'value': 2535803, 'data_year': 2006, 'month_num': 0, 'key': 'Count'}, {'value': 2688903, 'data_year': 2009, 'month_num': 0, 'key': 'Count'}, {'value': 506547, 'data_year': 1995, 'month_num': 0, 'key': 'Count'}, {'value': 1947870, 'data_year': 2003, 'month_num': 0, 'key': 'Count'}, {'value': 2770757, 'data_year': 2013, 'month_num': 0, 'key': 'Count'}, {'value': 2769484, 'data_year': 2011, 'month_num': 0, 'key': 'Count'}, {'value': 2933447, 'data_year': 2018, 'month_num': 0, 'key': 'Count'}, {'value': 2721064, 'data_year': 2010, 'month_num': 0, 'key': 'Count'}, {'value': 2643027, 'data_year': 2008, 'month_num': 0, 'key': 'Count'}], 'precise_data': []}\n"
     ]
    }
   ],
   "source": [
    "#property-crime, offender count, offender-tkm-controller\n",
    "headers = {\"Number of People\":\"value\", \"Year\": \"data_year\", \"Month\":'month_num', 'key': 'Count'}\n",
    "fbi_prcrime_people_ct = requests.get('https://api.usa.gov/crime/fbi/sapi/api/nibrs/property-crime/offender/national/count/?limit=1&api_key=HXzuNSaaIO46x38N0iVVKpMDgrP6GG3mxBcacgRH', data=data, headers=headers)\n",
    "fbi_json_prcrime_people_ct = json.loads(fbi_prcrime_people_ct.text)\n",
    "print(fbi_json_prcrime_people_ct)\n"
   ]
  },
  {
   "cell_type": "code",
   "execution_count": 56,
   "id": "d2d012f2",
   "metadata": {},
   "outputs": [],
   "source": [
    "#cleaning and reformatting the data\n",
    "raw_fbi_prcrime_people_ct = []\n",
    "raw_fbi_prcrime_people_ct.append(fbi_json_prcrime_people_ct)\n",
    "fbi_unformed_prcrime_people_ct = pd.json_normalize(raw_fbi_prcrime_people_ct, record_path = [\"data\"])\n",
    "fbi_unformed_prcrime_people_ct.to_csv('fbi_unformed_prcrime_people_ct_csv.csv')\n"
   ]
  },
  {
   "cell_type": "code",
   "execution_count": null,
   "id": "0cf9371e",
   "metadata": {},
   "outputs": [],
   "source": []
  },
  {
   "cell_type": "code",
   "execution_count": null,
   "id": "bc1cccd6",
   "metadata": {},
   "outputs": [],
   "source": []
  },
  {
   "cell_type": "code",
   "execution_count": 7,
   "id": "42aec446",
   "metadata": {},
   "outputs": [],
   "source": [
    "#BLA JSON request\n",
    "#base_url=\"https://api.bls.gov/publicAPI/v2/timeseries/data/?registrationkey=489c914f30b34dac8ebc65feb25a15df&catalog=true&startyear=2010&endyear=2020&calculations=true&annualaverage=true&aspects=true\"\n",
    "\n",
    "headers = {'Content-type': 'application/json'}\n",
    "data = json.dumps({\"seriesid\": ['CUUR0000SA0','SUUR0000SA0'],\"startyear\":\"2010\", \"endyear\":\"2020\"})\n",
    "p = requests.post('https://api.bls.gov/publicAPI/v2/timeseries/data/', data=data, headers=headers)\n",
    "json_data = json.loads(p.text)\n",
    "for series in json_data['Results']['series']:\n",
    "    x=prettytable.PrettyTable([\"series id\",\"year\",\"period\",\"value\",\"footnotes\"])\n",
    "    seriesId = series['seriesID']\n",
    "    for item in series['data']:\n",
    "        year = item['year']\n",
    "        period = item['period']\n",
    "        value = item['value']\n",
    "        footnotes=\"\"\n",
    "        for footnote in item['footnotes']:\n",
    "            if footnote:\n",
    "                footnotes = footnotes + footnote['text'] + ','\n",
    "        if 'M01' <= period <= 'M12':\n",
    "            x.add_row([seriesId,year,period,value,footnotes[0:-1]])\n",
    "    output = open(seriesId + '.txt','w')\n",
    "    output.write (x.get_string())\n",
    "    output.close()"
   ]
  },
  {
   "cell_type": "code",
   "execution_count": 9,
   "id": "3749fbc1",
   "metadata": {},
   "outputs": [
    {
     "name": "stdout",
     "output_type": "stream",
     "text": [
      "{'status': 'REQUEST_SUCCEEDED', 'responseTime': 271, 'message': ['Year range has been reduced to the system-allowed limit of 10 years.'], 'Results': {'series': [{'seriesID': 'CUUR0000SA0', 'data': [{'year': '2019', 'period': 'M12', 'periodName': 'December', 'value': '256.974', 'footnotes': [{}]}, {'year': '2019', 'period': 'M11', 'periodName': 'November', 'value': '257.208', 'footnotes': [{}]}, {'year': '2019', 'period': 'M10', 'periodName': 'October', 'value': '257.346', 'footnotes': [{}]}, {'year': '2019', 'period': 'M09', 'periodName': 'September', 'value': '256.759', 'footnotes': [{}]}, {'year': '2019', 'period': 'M08', 'periodName': 'August', 'value': '256.558', 'footnotes': [{}]}, {'year': '2019', 'period': 'M07', 'periodName': 'July', 'value': '256.571', 'footnotes': [{}]}, {'year': '2019', 'period': 'M06', 'periodName': 'June', 'value': '256.143', 'footnotes': [{}]}, {'year': '2019', 'period': 'M05', 'periodName': 'May', 'value': '256.092', 'footnotes': [{}]}, {'year': '2019', 'period': 'M04', 'periodName': 'April', 'value': '255.548', 'footnotes': [{}]}, {'year': '2019', 'period': 'M03', 'periodName': 'March', 'value': '254.202', 'footnotes': [{}]}, {'year': '2019', 'period': 'M02', 'periodName': 'February', 'value': '252.776', 'footnotes': [{}]}, {'year': '2019', 'period': 'M01', 'periodName': 'January', 'value': '251.712', 'footnotes': [{}]}, {'year': '2018', 'period': 'M12', 'periodName': 'December', 'value': '251.233', 'footnotes': [{}]}, {'year': '2018', 'period': 'M11', 'periodName': 'November', 'value': '252.038', 'footnotes': [{}]}, {'year': '2018', 'period': 'M10', 'periodName': 'October', 'value': '252.885', 'footnotes': [{}]}, {'year': '2018', 'period': 'M09', 'periodName': 'September', 'value': '252.439', 'footnotes': [{}]}, {'year': '2018', 'period': 'M08', 'periodName': 'August', 'value': '252.146', 'footnotes': [{}]}, {'year': '2018', 'period': 'M07', 'periodName': 'July', 'value': '252.006', 'footnotes': [{}]}, {'year': '2018', 'period': 'M06', 'periodName': 'June', 'value': '251.989', 'footnotes': [{}]}, {'year': '2018', 'period': 'M05', 'periodName': 'May', 'value': '251.588', 'footnotes': [{}]}, {'year': '2018', 'period': 'M04', 'periodName': 'April', 'value': '250.546', 'footnotes': [{}]}, {'year': '2018', 'period': 'M03', 'periodName': 'March', 'value': '249.554', 'footnotes': [{}]}, {'year': '2018', 'period': 'M02', 'periodName': 'February', 'value': '248.991', 'footnotes': [{}]}, {'year': '2018', 'period': 'M01', 'periodName': 'January', 'value': '247.867', 'footnotes': [{}]}, {'year': '2017', 'period': 'M12', 'periodName': 'December', 'value': '246.524', 'footnotes': [{}]}, {'year': '2017', 'period': 'M11', 'periodName': 'November', 'value': '246.669', 'footnotes': [{}]}, {'year': '2017', 'period': 'M10', 'periodName': 'October', 'value': '246.663', 'footnotes': [{}]}, {'year': '2017', 'period': 'M09', 'periodName': 'September', 'value': '246.819', 'footnotes': [{}]}, {'year': '2017', 'period': 'M08', 'periodName': 'August', 'value': '245.519', 'footnotes': [{}]}, {'year': '2017', 'period': 'M07', 'periodName': 'July', 'value': '244.786', 'footnotes': [{}]}, {'year': '2017', 'period': 'M06', 'periodName': 'June', 'value': '244.955', 'footnotes': [{}]}, {'year': '2017', 'period': 'M05', 'periodName': 'May', 'value': '244.733', 'footnotes': [{}]}, {'year': '2017', 'period': 'M04', 'periodName': 'April', 'value': '244.524', 'footnotes': [{}]}, {'year': '2017', 'period': 'M03', 'periodName': 'March', 'value': '243.801', 'footnotes': [{}]}, {'year': '2017', 'period': 'M02', 'periodName': 'February', 'value': '243.603', 'footnotes': [{}]}, {'year': '2017', 'period': 'M01', 'periodName': 'January', 'value': '242.839', 'footnotes': [{}]}, {'year': '2016', 'period': 'M12', 'periodName': 'December', 'value': '241.432', 'footnotes': [{}]}, {'year': '2016', 'period': 'M11', 'periodName': 'November', 'value': '241.353', 'footnotes': [{}]}, {'year': '2016', 'period': 'M10', 'periodName': 'October', 'value': '241.729', 'footnotes': [{}]}, {'year': '2016', 'period': 'M09', 'periodName': 'September', 'value': '241.428', 'footnotes': [{}]}, {'year': '2016', 'period': 'M08', 'periodName': 'August', 'value': '240.849', 'footnotes': [{}]}, {'year': '2016', 'period': 'M07', 'periodName': 'July', 'value': '240.628', 'footnotes': [{}]}, {'year': '2016', 'period': 'M06', 'periodName': 'June', 'value': '241.018', 'footnotes': [{}]}, {'year': '2016', 'period': 'M05', 'periodName': 'May', 'value': '240.229', 'footnotes': [{}]}, {'year': '2016', 'period': 'M04', 'periodName': 'April', 'value': '239.261', 'footnotes': [{}]}, {'year': '2016', 'period': 'M03', 'periodName': 'March', 'value': '238.132', 'footnotes': [{}]}, {'year': '2016', 'period': 'M02', 'periodName': 'February', 'value': '237.111', 'footnotes': [{}]}, {'year': '2016', 'period': 'M01', 'periodName': 'January', 'value': '236.916', 'footnotes': [{}]}, {'year': '2015', 'period': 'M12', 'periodName': 'December', 'value': '236.525', 'footnotes': [{}]}, {'year': '2015', 'period': 'M11', 'periodName': 'November', 'value': '237.336', 'footnotes': [{}]}, {'year': '2015', 'period': 'M10', 'periodName': 'October', 'value': '237.838', 'footnotes': [{}]}, {'year': '2015', 'period': 'M09', 'periodName': 'September', 'value': '237.945', 'footnotes': [{}]}, {'year': '2015', 'period': 'M08', 'periodName': 'August', 'value': '238.316', 'footnotes': [{}]}, {'year': '2015', 'period': 'M07', 'periodName': 'July', 'value': '238.654', 'footnotes': [{}]}, {'year': '2015', 'period': 'M06', 'periodName': 'June', 'value': '238.638', 'footnotes': [{}]}, {'year': '2015', 'period': 'M05', 'periodName': 'May', 'value': '237.805', 'footnotes': [{}]}, {'year': '2015', 'period': 'M04', 'periodName': 'April', 'value': '236.599', 'footnotes': [{}]}, {'year': '2015', 'period': 'M03', 'periodName': 'March', 'value': '236.119', 'footnotes': [{}]}, {'year': '2015', 'period': 'M02', 'periodName': 'February', 'value': '234.722', 'footnotes': [{}]}, {'year': '2015', 'period': 'M01', 'periodName': 'January', 'value': '233.707', 'footnotes': [{}]}, {'year': '2014', 'period': 'M12', 'periodName': 'December', 'value': '234.812', 'footnotes': [{}]}, {'year': '2014', 'period': 'M11', 'periodName': 'November', 'value': '236.151', 'footnotes': [{}]}, {'year': '2014', 'period': 'M10', 'periodName': 'October', 'value': '237.433', 'footnotes': [{}]}, {'year': '2014', 'period': 'M09', 'periodName': 'September', 'value': '238.031', 'footnotes': [{}]}, {'year': '2014', 'period': 'M08', 'periodName': 'August', 'value': '237.852', 'footnotes': [{}]}, {'year': '2014', 'period': 'M07', 'periodName': 'July', 'value': '238.250', 'footnotes': [{}]}, {'year': '2014', 'period': 'M06', 'periodName': 'June', 'value': '238.343', 'footnotes': [{}]}, {'year': '2014', 'period': 'M05', 'periodName': 'May', 'value': '237.900', 'footnotes': [{}]}, {'year': '2014', 'period': 'M04', 'periodName': 'April', 'value': '237.072', 'footnotes': [{}]}, {'year': '2014', 'period': 'M03', 'periodName': 'March', 'value': '236.293', 'footnotes': [{}]}, {'year': '2014', 'period': 'M02', 'periodName': 'February', 'value': '234.781', 'footnotes': [{}]}, {'year': '2014', 'period': 'M01', 'periodName': 'January', 'value': '233.916', 'footnotes': [{}]}, {'year': '2013', 'period': 'M12', 'periodName': 'December', 'value': '233.049', 'footnotes': [{}]}, {'year': '2013', 'period': 'M11', 'periodName': 'November', 'value': '233.069', 'footnotes': [{}]}, {'year': '2013', 'period': 'M10', 'periodName': 'October', 'value': '233.546', 'footnotes': [{}]}, {'year': '2013', 'period': 'M09', 'periodName': 'September', 'value': '234.149', 'footnotes': [{}]}, {'year': '2013', 'period': 'M08', 'periodName': 'August', 'value': '233.877', 'footnotes': [{}]}, {'year': '2013', 'period': 'M07', 'periodName': 'July', 'value': '233.596', 'footnotes': [{}]}, {'year': '2013', 'period': 'M06', 'periodName': 'June', 'value': '233.504', 'footnotes': [{}]}, {'year': '2013', 'period': 'M05', 'periodName': 'May', 'value': '232.945', 'footnotes': [{}]}, {'year': '2013', 'period': 'M04', 'periodName': 'April', 'value': '232.531', 'footnotes': [{}]}, {'year': '2013', 'period': 'M03', 'periodName': 'March', 'value': '232.773', 'footnotes': [{}]}, {'year': '2013', 'period': 'M02', 'periodName': 'February', 'value': '232.166', 'footnotes': [{}]}, {'year': '2013', 'period': 'M01', 'periodName': 'January', 'value': '230.280', 'footnotes': [{}]}, {'year': '2012', 'period': 'M12', 'periodName': 'December', 'value': '229.601', 'footnotes': [{}]}, {'year': '2012', 'period': 'M11', 'periodName': 'November', 'value': '230.221', 'footnotes': [{}]}, {'year': '2012', 'period': 'M10', 'periodName': 'October', 'value': '231.317', 'footnotes': [{}]}, {'year': '2012', 'period': 'M09', 'periodName': 'September', 'value': '231.407', 'footnotes': [{}]}, {'year': '2012', 'period': 'M08', 'periodName': 'August', 'value': '230.379', 'footnotes': [{}]}, {'year': '2012', 'period': 'M07', 'periodName': 'July', 'value': '229.104', 'footnotes': [{}]}, {'year': '2012', 'period': 'M06', 'periodName': 'June', 'value': '229.478', 'footnotes': [{}]}, {'year': '2012', 'period': 'M05', 'periodName': 'May', 'value': '229.815', 'footnotes': [{}]}, {'year': '2012', 'period': 'M04', 'periodName': 'April', 'value': '230.085', 'footnotes': [{}]}, {'year': '2012', 'period': 'M03', 'periodName': 'March', 'value': '229.392', 'footnotes': [{}]}, {'year': '2012', 'period': 'M02', 'periodName': 'February', 'value': '227.663', 'footnotes': [{}]}, {'year': '2012', 'period': 'M01', 'periodName': 'January', 'value': '226.665', 'footnotes': [{}]}, {'year': '2011', 'period': 'M12', 'periodName': 'December', 'value': '225.672', 'footnotes': [{}]}, {'year': '2011', 'period': 'M11', 'periodName': 'November', 'value': '226.230', 'footnotes': [{}]}, {'year': '2011', 'period': 'M10', 'periodName': 'October', 'value': '226.421', 'footnotes': [{}]}, {'year': '2011', 'period': 'M09', 'periodName': 'September', 'value': '226.889', 'footnotes': [{}]}, {'year': '2011', 'period': 'M08', 'periodName': 'August', 'value': '226.545', 'footnotes': [{}]}, {'year': '2011', 'period': 'M07', 'periodName': 'July', 'value': '225.922', 'footnotes': [{}]}, {'year': '2011', 'period': 'M06', 'periodName': 'June', 'value': '225.722', 'footnotes': [{}]}, {'year': '2011', 'period': 'M05', 'periodName': 'May', 'value': '225.964', 'footnotes': [{}]}, {'year': '2011', 'period': 'M04', 'periodName': 'April', 'value': '224.906', 'footnotes': [{}]}, {'year': '2011', 'period': 'M03', 'periodName': 'March', 'value': '223.467', 'footnotes': [{}]}, {'year': '2011', 'period': 'M02', 'periodName': 'February', 'value': '221.309', 'footnotes': [{}]}, {'year': '2011', 'period': 'M01', 'periodName': 'January', 'value': '220.223', 'footnotes': [{}]}, {'year': '2010', 'period': 'M12', 'periodName': 'December', 'value': '219.179', 'footnotes': [{}]}, {'year': '2010', 'period': 'M11', 'periodName': 'November', 'value': '218.803', 'footnotes': [{}]}, {'year': '2010', 'period': 'M10', 'periodName': 'October', 'value': '218.711', 'footnotes': [{}]}, {'year': '2010', 'period': 'M09', 'periodName': 'September', 'value': '218.439', 'footnotes': [{}]}, {'year': '2010', 'period': 'M08', 'periodName': 'August', 'value': '218.312', 'footnotes': [{}]}, {'year': '2010', 'period': 'M07', 'periodName': 'July', 'value': '218.011', 'footnotes': [{}]}, {'year': '2010', 'period': 'M06', 'periodName': 'June', 'value': '217.965', 'footnotes': [{}]}, {'year': '2010', 'period': 'M05', 'periodName': 'May', 'value': '218.178', 'footnotes': [{}]}, {'year': '2010', 'period': 'M04', 'periodName': 'April', 'value': '218.009', 'footnotes': [{}]}, {'year': '2010', 'period': 'M03', 'periodName': 'March', 'value': '217.631', 'footnotes': [{}]}, {'year': '2010', 'period': 'M02', 'periodName': 'February', 'value': '216.741', 'footnotes': [{}]}, {'year': '2010', 'period': 'M01', 'periodName': 'January', 'value': '216.687', 'footnotes': [{}]}]}, {'seriesID': 'SUUR0000SA0', 'data': [{'year': '2019', 'period': 'M12', 'periodName': 'December', 'value': '144.251', 'footnotes': [{}]}, {'year': '2019', 'period': 'M11', 'periodName': 'November', 'value': '144.518', 'footnotes': [{}]}, {'year': '2019', 'period': 'M10', 'periodName': 'October', 'value': '144.629', 'footnotes': [{}]}, {'year': '2019', 'period': 'M09', 'periodName': 'September', 'value': '144.428', 'footnotes': [{}]}, {'year': '2019', 'period': 'M08', 'periodName': 'August', 'value': '144.388', 'footnotes': [{}]}, {'year': '2019', 'period': 'M07', 'periodName': 'July', 'value': '144.409', 'footnotes': [{}]}, {'year': '2019', 'period': 'M06', 'periodName': 'June', 'value': '144.243', 'footnotes': [{}]}, {'year': '2019', 'period': 'M05', 'periodName': 'May', 'value': '144.183', 'footnotes': [{}]}, {'year': '2019', 'period': 'M04', 'periodName': 'April', 'value': '143.926', 'footnotes': [{}]}, {'year': '2019', 'period': 'M03', 'periodName': 'March', 'value': '143.297', 'footnotes': [{}]}, {'year': '2019', 'period': 'M02', 'periodName': 'February', 'value': '142.571', 'footnotes': [{}]}, {'year': '2019', 'period': 'M01', 'periodName': 'January', 'value': '142.001', 'footnotes': [{}]}, {'year': '2018', 'period': 'M12', 'periodName': 'December', 'value': '141.699', 'footnotes': [{}]}, {'year': '2018', 'period': 'M11', 'periodName': 'November', 'value': '142.238', 'footnotes': [{}]}, {'year': '2018', 'period': 'M10', 'periodName': 'October', 'value': '142.700', 'footnotes': [{}]}, {'year': '2018', 'period': 'M09', 'periodName': 'September', 'value': '142.489', 'footnotes': [{}]}, {'year': '2018', 'period': 'M08', 'periodName': 'August', 'value': '142.317', 'footnotes': [{}]}, {'year': '2018', 'period': 'M07', 'periodName': 'July', 'value': '142.317', 'footnotes': [{}]}, {'year': '2018', 'period': 'M06', 'periodName': 'June', 'value': '142.349', 'footnotes': [{}]}, {'year': '2018', 'period': 'M05', 'periodName': 'May', 'value': '142.146', 'footnotes': [{}]}, {'year': '2018', 'period': 'M04', 'periodName': 'April', 'value': '141.662', 'footnotes': [{}]}, {'year': '2018', 'period': 'M03', 'periodName': 'March', 'value': '141.142', 'footnotes': [{}]}, {'year': '2018', 'period': 'M02', 'periodName': 'February', 'value': '140.805', 'footnotes': [{}]}, {'year': '2018', 'period': 'M01', 'periodName': 'January', 'value': '140.239', 'footnotes': [{}]}, {'year': '2017', 'period': 'M12', 'periodName': 'December', 'value': '139.546', 'footnotes': [{}]}, {'year': '2017', 'period': 'M11', 'periodName': 'November', 'value': '139.720', 'footnotes': [{}]}, {'year': '2017', 'period': 'M10', 'periodName': 'October', 'value': '139.782', 'footnotes': [{}]}, {'year': '2017', 'period': 'M09', 'periodName': 'September', 'value': '139.878', 'footnotes': [{}]}, {'year': '2017', 'period': 'M08', 'periodName': 'August', 'value': '139.128', 'footnotes': [{}]}, {'year': '2017', 'period': 'M07', 'periodName': 'July', 'value': '138.755', 'footnotes': [{}]}, {'year': '2017', 'period': 'M06', 'periodName': 'June', 'value': '138.989', 'footnotes': [{}]}, {'year': '2017', 'period': 'M05', 'periodName': 'May', 'value': '138.922', 'footnotes': [{}]}, {'year': '2017', 'period': 'M04', 'periodName': 'April', 'value': '138.810', 'footnotes': [{}]}, {'year': '2017', 'period': 'M03', 'periodName': 'March', 'value': '138.461', 'footnotes': [{}]}, {'year': '2017', 'period': 'M02', 'periodName': 'February', 'value': '138.403', 'footnotes': [{}]}, {'year': '2017', 'period': 'M01', 'periodName': 'January', 'value': '138.035', 'footnotes': [{}]}, {'year': '2016', 'period': 'M12', 'periodName': 'December', 'value': '137.221', 'footnotes': [{}]}, {'year': '2016', 'period': 'M11', 'periodName': 'November', 'value': '137.253', 'footnotes': [{}]}, {'year': '2016', 'period': 'M10', 'periodName': 'October', 'value': '137.536', 'footnotes': [{}]}, {'year': '2016', 'period': 'M09', 'periodName': 'September', 'value': '137.328', 'footnotes': [{}]}, {'year': '2016', 'period': 'M08', 'periodName': 'August', 'value': '137.026', 'footnotes': [{}]}, {'year': '2016', 'period': 'M07', 'periodName': 'July', 'value': '137.007', 'footnotes': [{}]}, {'year': '2016', 'period': 'M06', 'periodName': 'June', 'value': '137.329', 'footnotes': [{}]}, {'year': '2016', 'period': 'M05', 'periodName': 'May', 'value': '136.895', 'footnotes': [{}]}, {'year': '2016', 'period': 'M04', 'periodName': 'April', 'value': '136.332', 'footnotes': [{}]}, {'year': '2016', 'period': 'M03', 'periodName': 'March', 'value': '135.655', 'footnotes': [{}]}, {'year': '2016', 'period': 'M02', 'periodName': 'February', 'value': '134.953', 'footnotes': [{}]}, {'year': '2016', 'period': 'M01', 'periodName': 'January', 'value': '134.966', 'footnotes': [{}]}, {'year': '2015', 'period': 'M12', 'periodName': 'December', 'value': '134.788', 'footnotes': [{}]}, {'year': '2015', 'period': 'M11', 'periodName': 'November', 'value': '135.393', 'footnotes': [{}]}, {'year': '2015', 'period': 'M10', 'periodName': 'October', 'value': '135.735', 'footnotes': [{}]}, {'year': '2015', 'period': 'M09', 'periodName': 'September', 'value': '135.837', 'footnotes': [{}]}, {'year': '2015', 'period': 'M08', 'periodName': 'August', 'value': '136.125', 'footnotes': [{}]}, {'year': '2015', 'period': 'M07', 'periodName': 'July', 'value': '136.371', 'footnotes': [{}]}, {'year': '2015', 'period': 'M06', 'periodName': 'June', 'value': '136.391', 'footnotes': [{}]}, {'year': '2015', 'period': 'M05', 'periodName': 'May', 'value': '135.977', 'footnotes': [{}]}, {'year': '2015', 'period': 'M04', 'periodName': 'April', 'value': '135.222', 'footnotes': [{}]}, {'year': '2015', 'period': 'M03', 'periodName': 'March', 'value': '134.969', 'footnotes': [{}]}, {'year': '2015', 'period': 'M02', 'periodName': 'February', 'value': '134.053', 'footnotes': [{}]}, {'year': '2015', 'period': 'M01', 'periodName': 'January', 'value': '133.487', 'footnotes': [{}]}, {'year': '2014', 'period': 'M12', 'periodName': 'December', 'value': '134.207', 'footnotes': [{}]}, {'year': '2014', 'period': 'M11', 'periodName': 'November', 'value': '135.107', 'footnotes': [{}]}, {'year': '2014', 'period': 'M10', 'periodName': 'October', 'value': '135.891', 'footnotes': [{}]}, {'year': '2014', 'period': 'M09', 'periodName': 'September', 'value': '136.211', 'footnotes': [{}]}, {'year': '2014', 'period': 'M08', 'periodName': 'August', 'value': '136.127', 'footnotes': [{}]}, {'year': '2014', 'period': 'M07', 'periodName': 'July', 'value': '136.392', 'footnotes': [{}]}, {'year': '2014', 'period': 'M06', 'periodName': 'June', 'value': '136.433', 'footnotes': [{}]}, {'year': '2014', 'period': 'M05', 'periodName': 'May', 'value': '136.216', 'footnotes': [{}]}, {'year': '2014', 'period': 'M04', 'periodName': 'April', 'value': '135.771', 'footnotes': [{}]}, {'year': '2014', 'period': 'M03', 'periodName': 'March', 'value': '135.375', 'footnotes': [{}]}, {'year': '2014', 'period': 'M02', 'periodName': 'February', 'value': '134.542', 'footnotes': [{}]}, {'year': '2014', 'period': 'M01', 'periodName': 'January', 'value': '134.017', 'footnotes': [{}]}, {'year': '2013', 'period': 'M12', 'periodName': 'December', 'value': '133.509', 'footnotes': [{}]}, {'year': '2013', 'period': 'M11', 'periodName': 'November', 'value': '133.596', 'footnotes': [{}]}, {'year': '2013', 'period': 'M10', 'periodName': 'October', 'value': '133.876', 'footnotes': [{}]}, {'year': '2013', 'period': 'M09', 'periodName': 'September', 'value': '134.255', 'footnotes': [{}]}, {'year': '2013', 'period': 'M08', 'periodName': 'August', 'value': '134.098', 'footnotes': [{}]}, {'year': '2013', 'period': 'M07', 'periodName': 'July', 'value': '133.919', 'footnotes': [{}]}, {'year': '2013', 'period': 'M06', 'periodName': 'June', 'value': '133.900', 'footnotes': [{}]}, {'year': '2013', 'period': 'M05', 'periodName': 'May', 'value': '133.626', 'footnotes': [{}]}, {'year': '2013', 'period': 'M04', 'periodName': 'April', 'value': '133.421', 'footnotes': [{}]}, {'year': '2013', 'period': 'M03', 'periodName': 'March', 'value': '133.558', 'footnotes': [{}]}, {'year': '2013', 'period': 'M02', 'periodName': 'February', 'value': '133.204', 'footnotes': [{}]}, {'year': '2013', 'period': 'M01', 'periodName': 'January', 'value': '132.137', 'footnotes': [{}]}, {'year': '2012', 'period': 'M12', 'periodName': 'December', 'value': '131.770', 'footnotes': [{}]}, {'year': '2012', 'period': 'M11', 'periodName': 'November', 'value': '132.208', 'footnotes': [{}]}, {'year': '2012', 'period': 'M10', 'periodName': 'October', 'value': '132.892', 'footnotes': [{}]}, {'year': '2012', 'period': 'M09', 'periodName': 'September', 'value': '132.988', 'footnotes': [{}]}, {'year': '2012', 'period': 'M08', 'periodName': 'August', 'value': '132.430', 'footnotes': [{}]}, {'year': '2012', 'period': 'M07', 'periodName': 'July', 'value': '131.731', 'footnotes': [{}]}, {'year': '2012', 'period': 'M06', 'periodName': 'June', 'value': '131.956', 'footnotes': [{}]}, {'year': '2012', 'period': 'M05', 'periodName': 'May', 'value': '132.154', 'footnotes': [{}]}, {'year': '2012', 'period': 'M04', 'periodName': 'April', 'value': '132.284', 'footnotes': [{}]}, {'year': '2012', 'period': 'M03', 'periodName': 'March', 'value': '131.905', 'footnotes': [{}]}, {'year': '2012', 'period': 'M02', 'periodName': 'February', 'value': '130.953', 'footnotes': [{}]}, {'year': '2012', 'period': 'M01', 'periodName': 'January', 'value': '130.438', 'footnotes': [{}]}, {'year': '2011', 'period': 'M12', 'periodName': 'December', 'value': '129.844', 'footnotes': [{}]}, {'year': '2011', 'period': 'M11', 'periodName': 'November', 'value': '130.196', 'footnotes': [{}]}, {'year': '2011', 'period': 'M10', 'periodName': 'October', 'value': '130.373', 'footnotes': [{}]}, {'year': '2011', 'period': 'M09', 'periodName': 'September', 'value': '130.635', 'footnotes': [{}]}, {'year': '2011', 'period': 'M08', 'periodName': 'August', 'value': '130.351', 'footnotes': [{}]}, {'year': '2011', 'period': 'M07', 'periodName': 'July', 'value': '129.983', 'footnotes': [{}]}, {'year': '2011', 'period': 'M06', 'periodName': 'June', 'value': '129.846', 'footnotes': [{}]}, {'year': '2011', 'period': 'M05', 'periodName': 'May', 'value': '129.999', 'footnotes': [{}]}, {'year': '2011', 'period': 'M04', 'periodName': 'April', 'value': '129.483', 'footnotes': [{}]}, {'year': '2011', 'period': 'M03', 'periodName': 'March', 'value': '128.585', 'footnotes': [{}]}, {'year': '2011', 'period': 'M02', 'periodName': 'February', 'value': '127.363', 'footnotes': [{}]}, {'year': '2011', 'period': 'M01', 'periodName': 'January', 'value': '126.778', 'footnotes': [{}]}, {'year': '2010', 'period': 'M12', 'periodName': 'December', 'value': '126.143', 'footnotes': [{}]}, {'year': '2010', 'period': 'M11', 'periodName': 'November', 'value': '125.920', 'footnotes': [{}]}, {'year': '2010', 'period': 'M10', 'periodName': 'October', 'value': '125.969', 'footnotes': [{}]}, {'year': '2010', 'period': 'M09', 'periodName': 'September', 'value': '125.830', 'footnotes': [{}]}, {'year': '2010', 'period': 'M08', 'periodName': 'August', 'value': '125.756', 'footnotes': [{}]}, {'year': '2010', 'period': 'M07', 'periodName': 'July', 'value': '125.536', 'footnotes': [{}]}, {'year': '2010', 'period': 'M06', 'periodName': 'June', 'value': '125.521', 'footnotes': [{}]}, {'year': '2010', 'period': 'M05', 'periodName': 'May', 'value': '125.678', 'footnotes': [{}]}, {'year': '2010', 'period': 'M04', 'periodName': 'April', 'value': '125.620', 'footnotes': [{}]}, {'year': '2010', 'period': 'M03', 'periodName': 'March', 'value': '125.442', 'footnotes': [{}]}, {'year': '2010', 'period': 'M02', 'periodName': 'February', 'value': '124.972', 'footnotes': [{}]}, {'year': '2010', 'period': 'M01', 'periodName': 'January', 'value': '124.987', 'footnotes': [{}]}]}]}}\n"
     ]
    }
   ],
   "source": [
    "print(json_data)"
   ]
  },
  {
   "cell_type": "markdown",
   "id": "d3351db4",
   "metadata": {},
   "source": [
    "#code from Week 5 to help me remember the steps\n",
    "#cleaning the data\n",
    "cities_weather_unformed = pd.json_normalize(raw_weather, sep='_')\n",
    "cities_weather_unformed = cities_weather_unformed.drop(cities_weather_unformed[cities_weather_unformed.message == \"city not found\"].index)\n",
    "\n",
    "cities_weather_unformed = cities_weather_unformed.set_index(\"name\")\n",
    "cities_weather_unformed.to_csv('cities_weather_unformed_csv.csv')\n",
    "\n",
    "#building a focused dataframe\n",
    "cities_weather = cities_weather_unformed.filter([\"sys_country\", \"coord_lon\", \"coord_lat\", \"main_pressure\", \"main_temp_max\", \"wind_speed\", \"main_humidity\", \"clouds_all\"], axis=1)\n",
    "cities_weather = pd.DataFrame(cities_weather)\n",
    "\n",
    "#export to a csv for confirmation\n",
    "cities_weather.to_csv('cities_weather_csv.csv')\n",
    "\n",
    "#print a sample to show it works\n",
    "cities_weather.head(75)"
   ]
  },
  {
   "cell_type": "markdown",
   "id": "53140478",
   "metadata": {},
   "source": [
    "#code from Week 5 to help me remember the steps\n",
    "\n",
    "raw_weather = []\n",
    "\n",
    "base_url=\"http://api.openweathermap.org/data/2.5/weather?units=Imperial&APPID=\" + api_key\n",
    "\n",
    "try:\n",
    "    for city in cities:\n",
    "        req = requests.get(base_url + f'&q={city}')\n",
    "        json_data = req.json()\n",
    "        raw_weather.append(json_data)\n",
    "        print(\"Processing \"+ city)\n",
    "\n",
    "except requests.exceptions.RequestException as e:\n",
    "        print(\"Processing \"+ city + \"failed.\")\n"
   ]
  }
 ],
 "metadata": {
  "kernelspec": {
   "display_name": "Python 3 (ipykernel)",
   "language": "python",
   "name": "python3"
  },
  "language_info": {
   "codemirror_mode": {
    "name": "ipython",
    "version": 3
   },
   "file_extension": ".py",
   "mimetype": "text/x-python",
   "name": "python",
   "nbconvert_exporter": "python",
   "pygments_lexer": "ipython3",
   "version": "3.9.7"
  }
 },
 "nbformat": 4,
 "nbformat_minor": 5
}
