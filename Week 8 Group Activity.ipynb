{
 "cells": [
  {
   "cell_type": "markdown",
   "id": "90694171",
   "metadata": {},
   "source": [
    "# Question 1\n",
    "\n",
    "Look up information on geometric mean and harmonic mean to answer the following questions:\n",
    "    a. In a jupyter notebook create a markdown section for each of the three concepts:\n",
    "       arithmetic mean, geometric mean, and harmonic mean\n",
    "    b. Write a definition for arithmetic mean, geometric mean, and harmonic mean,\n",
    "       under their respective headings\n",
    "    c. Write a code example for arithmetic mean, geometric mean, and harmonic mean\n",
    "       using the Belize Airbnb data in a cell under the each respective summary in\n",
    "       markdown\n"
   ]
  },
  {
   "cell_type": "code",
   "execution_count": 79,
   "id": "c6798395",
   "metadata": {},
   "outputs": [],
   "source": [
    "import pandas as pd\n",
    "import math\n",
    "belize=pd.read_csv('belize_airbnb_listings.csv')\n"
   ]
  },
  {
   "cell_type": "markdown",
   "id": "28c0f437",
   "metadata": {},
   "source": [
    "# Arithmetic Mean\n",
    "\n",
    "Definition:  the average of all values, meaning you are to add the values then divide by the number of values in the data set"
   ]
  },
  {
   "cell_type": "code",
   "execution_count": 80,
   "id": "da2d868c",
   "metadata": {},
   "outputs": [
    {
     "name": "stdout",
     "output_type": "stream",
     "text": [
      "price    357.102289\n",
      "dtype: float64\n"
     ]
    }
   ],
   "source": [
    "#Code Example:\n",
    "arith_mean=belize[['price']].mean()\n",
    "print(arith_mean)"
   ]
  },
  {
   "cell_type": "markdown",
   "id": "37c61918",
   "metadata": {},
   "source": [
    "# Geometric Mean\n",
    "\n",
    "Definition:  the nth root of the product of all n values in a data set"
   ]
  },
  {
   "cell_type": "code",
   "execution_count": 88,
   "id": "309856ea",
   "metadata": {},
   "outputs": [
    {
     "name": "stdout",
     "output_type": "stream",
     "text": [
      "[234.73471751]\n"
     ]
    }
   ],
   "source": [
    "from scipy import stats\n",
    "import numpy as np\n",
    "\n",
    "#Code Example:\n",
    "\n",
    "# Convert price list to an array (so I can use the gmean and reciprocal functions)\n",
    "price_array = np.array(belize[['price']])\n",
    "#Find geometric mean of the array\n",
    "geo_mean=stats.gmean(price_array)\n",
    "\n",
    "print(geo_mean)"
   ]
  },
  {
   "cell_type": "markdown",
   "id": "3e1e7d6b",
   "metadata": {},
   "source": [
    "# Harmonic Mean\n",
    "\n",
    "Definition:  the ratio of the number of values in a data set to the sum of the reciprocals of each of the values individually"
   ]
  },
  {
   "cell_type": "code",
   "execution_count": 89,
   "id": "a523335b",
   "metadata": {},
   "outputs": [
    {
     "name": "stdout",
     "output_type": "stream",
     "text": [
      "0.002800318090495544\n"
     ]
    }
   ],
   "source": [
    "#Code Example:\n",
    "\n",
    "#find reciprocal array\n",
    "recip = np.reciprocal(price_array)\n",
    "#find sum of the reciprocals in the array\n",
    "denom = price_array.sum()\n",
    "#divide the length of 'price' list by sum of reciprocals\n",
    "harm_mean=len(price)/denom\n",
    "print(harm_mean)"
   ]
  },
  {
   "cell_type": "markdown",
   "id": "91d05dfd",
   "metadata": {},
   "source": [
    "# Question 2\n",
    "\n",
    "Write a function to sort several subsequent inputs alphabetically. For example, if you first\n",
    "input ‘banana’ and next input ‘apple’, the first time [‘banana’] will be the output but the\n",
    "second time [‘apple’,’banana’] will be the output. The results should be stored until you\n",
    "restart your kernel."
   ]
  },
  {
   "cell_type": "code",
   "execution_count": 6,
   "id": "6d8eb5d0",
   "metadata": {},
   "outputs": [],
   "source": [
    "werdz = []\n",
    "\n",
    "def alpha_sort(word):\n",
    "    global werdz\n",
    "    werdz.append(word)\n",
    "    werdz.sort()\n",
    "    return werdz"
   ]
  },
  {
   "cell_type": "code",
   "execution_count": 7,
   "id": "a9ef747e",
   "metadata": {},
   "outputs": [
    {
     "data": {
      "text/plain": [
       "['banana']"
      ]
     },
     "execution_count": 7,
     "metadata": {},
     "output_type": "execute_result"
    }
   ],
   "source": [
    "alpha_sort('banana')"
   ]
  },
  {
   "cell_type": "code",
   "execution_count": 8,
   "id": "c40d4507",
   "metadata": {},
   "outputs": [
    {
     "data": {
      "text/plain": [
       "['apple', 'banana']"
      ]
     },
     "execution_count": 8,
     "metadata": {},
     "output_type": "execute_result"
    }
   ],
   "source": [
    "alpha_sort('apple')"
   ]
  },
  {
   "cell_type": "code",
   "execution_count": 9,
   "id": "a8624d4b",
   "metadata": {},
   "outputs": [
    {
     "data": {
      "text/plain": [
       "['aardvark', 'apple', 'banana']"
      ]
     },
     "execution_count": 9,
     "metadata": {},
     "output_type": "execute_result"
    }
   ],
   "source": [
    "alpha_sort('aardvark')"
   ]
  },
  {
   "cell_type": "code",
   "execution_count": 10,
   "id": "548a4a9f",
   "metadata": {},
   "outputs": [
    {
     "data": {
      "text/plain": [
       "['aardvark', 'apple', 'banana', 'blister']"
      ]
     },
     "execution_count": 10,
     "metadata": {},
     "output_type": "execute_result"
    }
   ],
   "source": [
    "alpha_sort('blister')"
   ]
  },
  {
   "cell_type": "code",
   "execution_count": 11,
   "id": "cc6ff5a5",
   "metadata": {},
   "outputs": [
    {
     "data": {
      "text/plain": [
       "['aardvark', 'apple', 'aspirin', 'banana', 'blister']"
      ]
     },
     "execution_count": 11,
     "metadata": {},
     "output_type": "execute_result"
    }
   ],
   "source": [
    "alpha_sort('aspirin')"
   ]
  },
  {
   "cell_type": "code",
   "execution_count": null,
   "id": "770adac2",
   "metadata": {},
   "outputs": [],
   "source": []
  }
 ],
 "metadata": {
  "kernelspec": {
   "display_name": "Python 3 (ipykernel)",
   "language": "python",
   "name": "python3"
  },
  "language_info": {
   "codemirror_mode": {
    "name": "ipython",
    "version": 3
   },
   "file_extension": ".py",
   "mimetype": "text/x-python",
   "name": "python",
   "nbconvert_exporter": "python",
   "pygments_lexer": "ipython3",
   "version": "3.9.7"
  }
 },
 "nbformat": 4,
 "nbformat_minor": 5
}
