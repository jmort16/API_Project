{
 "cells": [
  {
   "cell_type": "code",
   "execution_count": 2,
   "id": "888e543e",
   "metadata": {},
   "outputs": [],
   "source": [
    "import pandas as pd\n",
    "belize=pd.read_csv('belize_airbnb_listings.csv')"
   ]
  },
  {
   "cell_type": "code",
   "execution_count": null,
   "id": "c04af5d6",
   "metadata": {},
   "outputs": [],
   "source": [
    "# Arithmetic Mean\n",
    "\n",
    "Definition:  the average of all values, meaning you are to add the values then divide by the number of values in the data set\n",
    "\n",
    " "
   ]
  },
  {
   "cell_type": "code",
   "execution_count": null,
   "id": "958d74d9",
   "metadata": {},
   "outputs": [],
   "source": [
    "# Code Example:\n",
    "\n",
    "price = be\n",
    "\n",
    "for x in belize:   "
   ]
  },
  {
   "cell_type": "markdown",
   "id": "c1c90438",
   "metadata": {},
   "source": [
    "# Geometric Mean\n",
    "\n",
    "Definition:  the square root of the product of two values"
   ]
  },
  {
   "cell_type": "code",
   "execution_count": null,
   "id": "48283a14",
   "metadata": {},
   "outputs": [],
   "source": []
  },
  {
   "cell_type": "markdown",
   "id": "de86925c",
   "metadata": {},
   "source": [
    "# Harmonic Mean\n",
    "\n",
    "Definition:  the ratio of the number of values in a data set to the sum of the reciprocals of each of the values individually"
   ]
  },
  {
   "cell_type": "code",
   "execution_count": null,
   "id": "9c4d0ec2",
   "metadata": {},
   "outputs": [],
   "source": []
  }
 ],
 "metadata": {
  "kernelspec": {
   "display_name": "Python 3 (ipykernel)",
   "language": "python",
   "name": "python3"
  },
  "language_info": {
   "codemirror_mode": {
    "name": "ipython",
    "version": 3
   },
   "file_extension": ".py",
   "mimetype": "text/x-python",
   "name": "python",
   "nbconvert_exporter": "python",
   "pygments_lexer": "ipython3",
   "version": "3.9.7"
  }
 },
 "nbformat": 4,
 "nbformat_minor": 5
}
