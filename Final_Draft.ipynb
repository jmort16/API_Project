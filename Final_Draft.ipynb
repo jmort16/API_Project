{
 "cells": [
  {
   "cell_type": "markdown",
   "id": "ee4822e5",
   "metadata": {},
   "source": [
    "# Group API Project: Crime Rates and Unemployment Rates\n",
    "\n",
    "## November 10, 2021 -- Jamie Mortensen, Heather Leighton-Dick\n",
    "\n",
    "\n",
    "What if any relationship is there between national property crimes rates versus unemployment rates in 2010? in 2020?\n",
    "\n",
    "Is there a noticeable difference between the years? Is there a potential correlation between crime and unemployment rates? Is there a stronger correlation in one subgroup of property crimes than the others?"
   ]
  },
  {
   "cell_type": "markdown",
   "id": "a966b59c",
   "metadata": {},
   "source": [
    "### Sources & Definitions:\n",
    "\n",
    "We extracted data from the FBI's Crime Data Explorer API and the Bureau of Labor Statistics' Public Data API.\n",
    "\n",
    "The CDE API is the FBI’s Uniform Crime Reporting (UCR) Program's effort to report the nation's crime data in a more timely and detailed way. It estimates national and state data and agency-level crime statistics based on the National Incident-Based Reporting System (NIBRS). The UCR has been operating since 1930, and has transitioned fully this year from the Summary Reporting System (started in 1979) to the NIBRS format. As of January 1, 2021, NIBRS will be used exclusively; some of the data will be reported in SRS standard to maintain continuity and compatibility of data.\n",
    "\n",
    "-- https://crime-data-explorer.fr.cloud.gov/pages/about\n",
    "\n",
    "The BLS's Public Data API provides access to ...\n",
    "\n",
    "### Definitions:\n",
    "\n",
    "property crime: a category of crime, usually involving private property, that includes burglary, larceny, theft, motor vehicle theft, arson, shoplifting, and vandalism\n",
    "\n",
    "burglary: entry into a building with the intent to commit a crime, most often theft, robbery, or murder\n",
    "\n",
    "robbery: taking property unlawfully from a person or place by force or threat of force\n",
    "\n",
    "larceny: the theft of physical items that are personal property, without threat of force (theft includes all variations on stealing property from another person or entity)"
   ]
  },
  {
   "cell_type": "markdown",
   "id": "d02aaaba",
   "metadata": {},
   "source": [
    "### Set-Up and Importing Modules"
   ]
  },
  {
   "cell_type": "code",
<<<<<<< Updated upstream
   "execution_count": 1,
=======
   "execution_count": 61,
>>>>>>> Stashed changes
   "id": "1a627afd",
   "metadata": {},
   "outputs": [],
   "source": [
    "import requests\n",
    "import pandas as pd\n",
    "import matplotlib.pyplot as plt\n",
    "import numpy as np\n",
    "import time\n",
    "from pprint import pprint\n",
    "import citipy\n",
    "import json\n",
    "from citipy import citipy\n",
    "import seaborn as sns\n",
    "import prettytable"
   ]
  },
  {
   "cell_type": "markdown",
   "id": "6e846a6b",
   "metadata": {},
   "source": [
    "## Performing the API Calls and Collecting the Data"
   ]
  },
  {
   "cell_type": "markdown",
   "id": "d456539f",
   "metadata": {},
   "source": [
    "## Burglary Data"
   ]
  },
  {
   "cell_type": "code",
<<<<<<< Updated upstream
   "execution_count": null,
=======
   "execution_count": 62,
>>>>>>> Stashed changes
   "id": "bac85993",
   "metadata": {},
   "outputs": [],
   "source": [
    "#API call"
   ]
  },
  {
   "cell_type": "code",
<<<<<<< Updated upstream
   "execution_count": null,
=======
   "execution_count": 63,
>>>>>>> Stashed changes
   "id": "1b9e0fdb",
   "metadata": {},
   "outputs": [],
   "source": [
    "#data to json to csv"
   ]
  },
  {
   "cell_type": "code",
<<<<<<< Updated upstream
   "execution_count": null,
   "id": "d0ceee30",
   "metadata": {},
   "outputs": [],
=======
   "execution_count": 64,
   "id": "d0ceee30",
   "metadata": {},
   "outputs": [
    {
     "data": {
      "text/html": [
       "<div>\n",
       "<style scoped>\n",
       "    .dataframe tbody tr th:only-of-type {\n",
       "        vertical-align: middle;\n",
       "    }\n",
       "\n",
       "    .dataframe tbody tr th {\n",
       "        vertical-align: top;\n",
       "    }\n",
       "\n",
       "    .dataframe thead th {\n",
       "        text-align: right;\n",
       "    }\n",
       "</style>\n",
       "<table border=\"1\" class=\"dataframe\">\n",
       "  <thead>\n",
       "    <tr style=\"text-align: right;\">\n",
       "      <th></th>\n",
       "      <th>incident_count</th>\n",
       "      <th>offense_count</th>\n",
       "      <th>data_year</th>\n",
       "    </tr>\n",
       "  </thead>\n",
       "  <tbody>\n",
       "    <tr>\n",
       "      <th>0</th>\n",
       "      <td>585312</td>\n",
       "      <td>585312</td>\n",
       "      <td>2011</td>\n",
       "    </tr>\n",
       "    <tr>\n",
       "      <th>1</th>\n",
       "      <td>586634</td>\n",
       "      <td>586634</td>\n",
       "      <td>2012</td>\n",
       "    </tr>\n",
       "    <tr>\n",
       "      <th>2</th>\n",
       "      <td>537536</td>\n",
       "      <td>537536</td>\n",
       "      <td>2013</td>\n",
       "    </tr>\n",
       "    <tr>\n",
       "      <th>3</th>\n",
       "      <td>482371</td>\n",
       "      <td>482371</td>\n",
       "      <td>2014</td>\n",
       "    </tr>\n",
       "    <tr>\n",
       "      <th>4</th>\n",
       "      <td>462537</td>\n",
       "      <td>462537</td>\n",
       "      <td>2015</td>\n",
       "    </tr>\n",
       "    <tr>\n",
       "      <th>5</th>\n",
       "      <td>462509</td>\n",
       "      <td>462509</td>\n",
       "      <td>2016</td>\n",
       "    </tr>\n",
       "    <tr>\n",
       "      <th>6</th>\n",
       "      <td>441958</td>\n",
       "      <td>441958</td>\n",
       "      <td>2017</td>\n",
       "    </tr>\n",
       "    <tr>\n",
       "      <th>7</th>\n",
       "      <td>434631</td>\n",
       "      <td>434631</td>\n",
       "      <td>2018</td>\n",
       "    </tr>\n",
       "    <tr>\n",
       "      <th>8</th>\n",
       "      <td>494159</td>\n",
       "      <td>494159</td>\n",
       "      <td>2019</td>\n",
       "    </tr>\n",
       "    <tr>\n",
       "      <th>9</th>\n",
       "      <td>522426</td>\n",
       "      <td>522426</td>\n",
       "      <td>2020</td>\n",
       "    </tr>\n",
       "  </tbody>\n",
       "</table>\n",
       "</div>"
      ],
      "text/plain": [
       "   incident_count  offense_count  data_year\n",
       "0          585312         585312       2011\n",
       "1          586634         586634       2012\n",
       "2          537536         537536       2013\n",
       "3          482371         482371       2014\n",
       "4          462537         462537       2015\n",
       "5          462509         462509       2016\n",
       "6          441958         441958       2017\n",
       "7          434631         434631       2018\n",
       "8          494159         494159       2019\n",
       "9          522426         522426       2020"
      ]
     },
     "execution_count": 64,
     "metadata": {},
     "output_type": "execute_result"
    }
   ],
>>>>>>> Stashed changes
   "source": [
    "#csv to dataframe"
   ]
  },
  {
   "cell_type": "markdown",
   "id": "397a4141",
   "metadata": {},
   "source": [
    "### Burglary Data Line Plot"
   ]
  },
  {
   "cell_type": "code",
<<<<<<< Updated upstream
   "execution_count": null,
=======
   "execution_count": 65,
>>>>>>> Stashed changes
   "id": "fe729be0",
   "metadata": {},
   "outputs": [],
   "source": [
    "#relplot"
   ]
  },
  {
   "cell_type": "markdown",
   "id": "b4d6d325",
   "metadata": {},
   "source": [
    "Burglary trend summary:"
   ]
  },
  {
   "cell_type": "markdown",
   "id": "fb347923",
   "metadata": {},
   "source": [
    "## Robbery Data"
   ]
  },
  {
   "cell_type": "code",
<<<<<<< Updated upstream
   "execution_count": null,
=======
   "execution_count": 66,
>>>>>>> Stashed changes
   "id": "c34595c1",
   "metadata": {},
   "outputs": [],
   "source": [
    "#API call"
   ]
  },
  {
   "cell_type": "code",
<<<<<<< Updated upstream
   "execution_count": null,
=======
   "execution_count": 67,
>>>>>>> Stashed changes
   "id": "cacd1d41",
   "metadata": {},
   "outputs": [],
   "source": [
    "#data to json to csv"
   ]
  },
  {
   "cell_type": "code",
<<<<<<< Updated upstream
   "execution_count": null,
   "id": "e17d8e86",
   "metadata": {},
   "outputs": [],
=======
   "execution_count": 68,
   "id": "e17d8e86",
   "metadata": {},
   "outputs": [
    {
     "data": {
      "text/html": [
       "<div>\n",
       "<style scoped>\n",
       "    .dataframe tbody tr th:only-of-type {\n",
       "        vertical-align: middle;\n",
       "    }\n",
       "\n",
       "    .dataframe tbody tr th {\n",
       "        vertical-align: top;\n",
       "    }\n",
       "\n",
       "    .dataframe thead th {\n",
       "        text-align: right;\n",
       "    }\n",
       "</style>\n",
       "<table border=\"1\" class=\"dataframe\">\n",
       "  <thead>\n",
       "    <tr style=\"text-align: right;\">\n",
       "      <th></th>\n",
       "      <th>incident_count</th>\n",
       "      <th>offense_count</th>\n",
       "      <th>data_year</th>\n",
       "    </tr>\n",
       "  </thead>\n",
       "  <tbody>\n",
       "    <tr>\n",
       "      <th>0</th>\n",
       "      <td>72942</td>\n",
       "      <td>72942</td>\n",
       "      <td>2011</td>\n",
       "    </tr>\n",
       "    <tr>\n",
       "      <th>1</th>\n",
       "      <td>74626</td>\n",
       "      <td>74626</td>\n",
       "      <td>2012</td>\n",
       "    </tr>\n",
       "    <tr>\n",
       "      <th>2</th>\n",
       "      <td>72200</td>\n",
       "      <td>72200</td>\n",
       "      <td>2013</td>\n",
       "    </tr>\n",
       "    <tr>\n",
       "      <th>3</th>\n",
       "      <td>68471</td>\n",
       "      <td>68471</td>\n",
       "      <td>2014</td>\n",
       "    </tr>\n",
       "    <tr>\n",
       "      <th>4</th>\n",
       "      <td>70713</td>\n",
       "      <td>70713</td>\n",
       "      <td>2015</td>\n",
       "    </tr>\n",
       "    <tr>\n",
       "      <th>5</th>\n",
       "      <td>73328</td>\n",
       "      <td>73328</td>\n",
       "      <td>2016</td>\n",
       "    </tr>\n",
       "    <tr>\n",
       "      <th>6</th>\n",
       "      <td>72311</td>\n",
       "      <td>72311</td>\n",
       "      <td>2017</td>\n",
       "    </tr>\n",
       "    <tr>\n",
       "      <th>7</th>\n",
       "      <td>78559</td>\n",
       "      <td>78559</td>\n",
       "      <td>2018</td>\n",
       "    </tr>\n",
       "    <tr>\n",
       "      <th>8</th>\n",
       "      <td>95627</td>\n",
       "      <td>95627</td>\n",
       "      <td>2019</td>\n",
       "    </tr>\n",
       "    <tr>\n",
       "      <th>9</th>\n",
       "      <td>102677</td>\n",
       "      <td>102677</td>\n",
       "      <td>2020</td>\n",
       "    </tr>\n",
       "  </tbody>\n",
       "</table>\n",
       "</div>"
      ],
      "text/plain": [
       "   incident_count  offense_count  data_year\n",
       "0           72942          72942       2011\n",
       "1           74626          74626       2012\n",
       "2           72200          72200       2013\n",
       "3           68471          68471       2014\n",
       "4           70713          70713       2015\n",
       "5           73328          73328       2016\n",
       "6           72311          72311       2017\n",
       "7           78559          78559       2018\n",
       "8           95627          95627       2019\n",
       "9          102677         102677       2020"
      ]
     },
     "execution_count": 68,
     "metadata": {},
     "output_type": "execute_result"
    }
   ],
>>>>>>> Stashed changes
   "source": [
    "#csv to dataframe"
   ]
  },
  {
   "cell_type": "markdown",
   "id": "c866a6ae",
   "metadata": {},
   "source": [
    "### Robbery Data Line Plot"
   ]
  },
  {
   "cell_type": "code",
<<<<<<< Updated upstream
   "execution_count": null,
=======
   "execution_count": 69,
>>>>>>> Stashed changes
   "id": "8abb8054",
   "metadata": {},
   "outputs": [],
   "source": []
  },
  {
   "cell_type": "markdown",
   "id": "d7de9c08",
   "metadata": {},
   "source": [
    "Robbery trend summary:"
   ]
  },
  {
   "cell_type": "markdown",
   "id": "a0e44e69",
   "metadata": {},
   "source": [
    "## Larceny Data"
   ]
  },
  {
   "cell_type": "code",
<<<<<<< Updated upstream
   "execution_count": null,
=======
   "execution_count": 70,
>>>>>>> Stashed changes
   "id": "0adf5570",
   "metadata": {},
   "outputs": [],
   "source": [
    "#API call"
   ]
  },
  {
   "cell_type": "code",
<<<<<<< Updated upstream
   "execution_count": null,
=======
   "execution_count": 71,
>>>>>>> Stashed changes
   "id": "552a1aa2",
   "metadata": {},
   "outputs": [],
   "source": [
    "#data to json to csv"
   ]
  },
  {
   "cell_type": "code",
<<<<<<< Updated upstream
   "execution_count": null,
   "id": "2332bc73",
   "metadata": {},
   "outputs": [],
=======
   "execution_count": 72,
   "id": "2332bc73",
   "metadata": {},
   "outputs": [
    {
     "data": {
      "text/html": [
       "<div>\n",
       "<style scoped>\n",
       "    .dataframe tbody tr th:only-of-type {\n",
       "        vertical-align: middle;\n",
       "    }\n",
       "\n",
       "    .dataframe tbody tr th {\n",
       "        vertical-align: top;\n",
       "    }\n",
       "\n",
       "    .dataframe thead th {\n",
       "        text-align: right;\n",
       "    }\n",
       "</style>\n",
       "<table border=\"1\" class=\"dataframe\">\n",
       "  <thead>\n",
       "    <tr style=\"text-align: right;\">\n",
       "      <th></th>\n",
       "      <th>data_year</th>\n",
       "      <th>offense_count</th>\n",
       "    </tr>\n",
       "  </thead>\n",
       "  <tbody>\n",
       "    <tr>\n",
       "      <th>0</th>\n",
       "      <td>2011</td>\n",
       "      <td>1715009</td>\n",
       "    </tr>\n",
       "    <tr>\n",
       "      <th>1</th>\n",
       "      <td>2012</td>\n",
       "      <td>1792213</td>\n",
       "    </tr>\n",
       "    <tr>\n",
       "      <th>2</th>\n",
       "      <td>2013</td>\n",
       "      <td>1760951</td>\n",
       "    </tr>\n",
       "    <tr>\n",
       "      <th>3</th>\n",
       "      <td>2014</td>\n",
       "      <td>1722483</td>\n",
       "    </tr>\n",
       "    <tr>\n",
       "      <th>4</th>\n",
       "      <td>2015</td>\n",
       "      <td>1741204</td>\n",
       "    </tr>\n",
       "    <tr>\n",
       "      <th>5</th>\n",
       "      <td>2016</td>\n",
       "      <td>1789788</td>\n",
       "    </tr>\n",
       "    <tr>\n",
       "      <th>6</th>\n",
       "      <td>2017</td>\n",
       "      <td>1816210</td>\n",
       "    </tr>\n",
       "    <tr>\n",
       "      <th>7</th>\n",
       "      <td>2018</td>\n",
       "      <td>1902857</td>\n",
       "    </tr>\n",
       "    <tr>\n",
       "      <th>8</th>\n",
       "      <td>2019</td>\n",
       "      <td>2271350</td>\n",
       "    </tr>\n",
       "    <tr>\n",
       "      <th>9</th>\n",
       "      <td>2020</td>\n",
       "      <td>2453533</td>\n",
       "    </tr>\n",
       "  </tbody>\n",
       "</table>\n",
       "</div>"
      ],
      "text/plain": [
       "   data_year  offense_count\n",
       "0       2011        1715009\n",
       "1       2012        1792213\n",
       "2       2013        1760951\n",
       "3       2014        1722483\n",
       "4       2015        1741204\n",
       "5       2016        1789788\n",
       "6       2017        1816210\n",
       "7       2018        1902857\n",
       "8       2019        2271350\n",
       "9       2020        2453533"
      ]
     },
     "execution_count": 72,
     "metadata": {},
     "output_type": "execute_result"
    }
   ],
>>>>>>> Stashed changes
   "source": [
    "#csv to dataframe"
   ]
  },
  {
   "cell_type": "markdown",
   "id": "f90089e8",
   "metadata": {},
   "source": [
    "### Larceny Line Plot"
   ]
  },
  {
   "cell_type": "code",
<<<<<<< Updated upstream
   "execution_count": null,
=======
   "execution_count": 73,
>>>>>>> Stashed changes
   "id": "0e492344",
   "metadata": {},
   "outputs": [],
   "source": []
  },
  {
   "cell_type": "markdown",
   "id": "96960d73",
   "metadata": {},
   "source": [
    "Larceny trend summary:"
   ]
  },
  {
   "cell_type": "markdown",
<<<<<<< Updated upstream
=======
   "id": "e41c22fa",
   "metadata": {},
   "source": [
    "## Stolen Property Data"
   ]
  },
  {
   "cell_type": "code",
<<<<<<< Updated upstream
   "execution_count": null,
=======
   "execution_count": 74,
>>>>>>> Stashed changes
   "id": "2aedc537",
   "metadata": {},
   "outputs": [],
   "source": [
    "#API call\n",
    "fbi_stolprop_ct = requests.get('https://api.usa.gov/crime/fbi/sapi/api/data/nibrs/stolen-property-offenses/offense/national/count/?limit=1&api_key='+FBI_api_key)\n",
    "fbi_json_stolprop_ct = json.loads(fbi_stolprop_ct.text)"
   ]
  },
  {
   "cell_type": "code",
<<<<<<< Updated upstream
   "execution_count": null,
=======
   "execution_count": 75,
>>>>>>> Stashed changes
   "id": "9c24ec15",
   "metadata": {},
   "outputs": [],
   "source": [
    "#data to json to csv\n",
    "raw_fbi_stolprop_ct = []\n",
    "raw_fbi_stolprop_ct.append(fbi_json_stolprop_ct)\n",
    "fbi_unformed_stolprop_ct = pd.json_normalize(raw_fbi_stolprop_ct, record_path = [\"results\"])\n",
    "fbi_unformed_stolprop_ct.to_csv('fbi_unformed_stolprop_ct_csv.csv')"
   ]
  },
  {
   "cell_type": "code",
<<<<<<< Updated upstream
   "execution_count": 4,
=======
   "execution_count": 76,
>>>>>>> Stashed changes
   "id": "1c48976d",
   "metadata": {},
   "outputs": [
    {
<<<<<<< Updated upstream
     "ename": "NameError",
     "evalue": "name 'fbi_unformed_stolprop_ct' is not defined",
     "output_type": "error",
     "traceback": [
      "\u001b[0;31m---------------------------------------------------------------------------\u001b[0m",
      "\u001b[0;31mNameError\u001b[0m                                 Traceback (most recent call last)",
      "\u001b[0;32m/var/folders/_g/ndr230vr8xj4_h001s7lzdlh0000gp/T/ipykernel_34226/1338513226.py\u001b[0m in \u001b[0;36m<module>\u001b[0;34m\u001b[0m\n\u001b[1;32m      1\u001b[0m \u001b[0;31m#csv to dataframe\u001b[0m\u001b[0;34m\u001b[0m\u001b[0;34m\u001b[0m\u001b[0m\n\u001b[0;32m----> 2\u001b[0;31m \u001b[0mstolprop_df\u001b[0m \u001b[0;34m=\u001b[0m \u001b[0mpd\u001b[0m\u001b[0;34m.\u001b[0m\u001b[0mDataFrame\u001b[0m\u001b[0;34m(\u001b[0m\u001b[0mfbi_unformed_stolprop_ct\u001b[0m\u001b[0;34m)\u001b[0m\u001b[0;34m\u001b[0m\u001b[0;34m\u001b[0m\u001b[0m\n\u001b[0m\u001b[1;32m      3\u001b[0m \u001b[0;34m\u001b[0m\u001b[0m\n\u001b[1;32m      4\u001b[0m \u001b[0;31m# Sort df by year\u001b[0m\u001b[0;34m\u001b[0m\u001b[0;34m\u001b[0m\u001b[0m\n\u001b[1;32m      5\u001b[0m \u001b[0mstolprop_sorted\u001b[0m \u001b[0;34m=\u001b[0m \u001b[0mstolprop_df\u001b[0m\u001b[0;34m.\u001b[0m\u001b[0msort_values\u001b[0m\u001b[0;34m(\u001b[0m\u001b[0;34m'data_year'\u001b[0m\u001b[0;34m)\u001b[0m\u001b[0;34m\u001b[0m\u001b[0;34m\u001b[0m\u001b[0m\n",
      "\u001b[0;31mNameError\u001b[0m: name 'fbi_unformed_stolprop_ct' is not defined"
     ]
=======
     "data": {
      "text/html": [
       "<div>\n",
       "<style scoped>\n",
       "    .dataframe tbody tr th:only-of-type {\n",
       "        vertical-align: middle;\n",
       "    }\n",
       "\n",
       "    .dataframe tbody tr th {\n",
       "        vertical-align: top;\n",
       "    }\n",
       "\n",
       "    .dataframe thead th {\n",
       "        text-align: right;\n",
       "    }\n",
       "</style>\n",
       "<table border=\"1\" class=\"dataframe\">\n",
       "  <thead>\n",
       "    <tr style=\"text-align: right;\">\n",
       "      <th></th>\n",
       "      <th>index</th>\n",
       "      <th>incident_count</th>\n",
       "      <th>offense_count</th>\n",
       "      <th>data_year</th>\n",
       "    </tr>\n",
       "  </thead>\n",
       "  <tbody>\n",
       "    <tr>\n",
       "      <th>0</th>\n",
       "      <td>1</td>\n",
       "      <td>32951</td>\n",
       "      <td>32951</td>\n",
       "      <td>2011</td>\n",
       "    </tr>\n",
       "    <tr>\n",
       "      <th>1</th>\n",
       "      <td>12</td>\n",
       "      <td>36594</td>\n",
       "      <td>36594</td>\n",
       "      <td>2012</td>\n",
       "    </tr>\n",
       "    <tr>\n",
       "      <th>2</th>\n",
       "      <td>17</td>\n",
       "      <td>37367</td>\n",
       "      <td>37367</td>\n",
       "      <td>2013</td>\n",
       "    </tr>\n",
       "    <tr>\n",
       "      <th>3</th>\n",
       "      <td>21</td>\n",
       "      <td>37273</td>\n",
       "      <td>37273</td>\n",
       "      <td>2014</td>\n",
       "    </tr>\n",
       "    <tr>\n",
       "      <th>4</th>\n",
       "      <td>22</td>\n",
       "      <td>39088</td>\n",
       "      <td>39088</td>\n",
       "      <td>2015</td>\n",
       "    </tr>\n",
       "    <tr>\n",
       "      <th>5</th>\n",
       "      <td>6</td>\n",
       "      <td>45781</td>\n",
       "      <td>45781</td>\n",
       "      <td>2016</td>\n",
       "    </tr>\n",
       "    <tr>\n",
       "      <th>6</th>\n",
       "      <td>11</td>\n",
       "      <td>49301</td>\n",
       "      <td>49301</td>\n",
       "      <td>2017</td>\n",
       "    </tr>\n",
       "    <tr>\n",
       "      <th>7</th>\n",
       "      <td>18</td>\n",
       "      <td>53094</td>\n",
       "      <td>53094</td>\n",
       "      <td>2018</td>\n",
       "    </tr>\n",
       "    <tr>\n",
       "      <th>8</th>\n",
       "      <td>27</td>\n",
       "      <td>62034</td>\n",
       "      <td>62034</td>\n",
       "      <td>2019</td>\n",
       "    </tr>\n",
       "    <tr>\n",
       "      <th>9</th>\n",
       "      <td>25</td>\n",
       "      <td>72323</td>\n",
       "      <td>72323</td>\n",
       "      <td>2020</td>\n",
       "    </tr>\n",
       "  </tbody>\n",
       "</table>\n",
       "</div>"
      ],
      "text/plain": [
       "   index  incident_count  offense_count  data_year\n",
       "0      1           32951          32951       2011\n",
       "1     12           36594          36594       2012\n",
       "2     17           37367          37367       2013\n",
       "3     21           37273          37273       2014\n",
       "4     22           39088          39088       2015\n",
       "5      6           45781          45781       2016\n",
       "6     11           49301          49301       2017\n",
       "7     18           53094          53094       2018\n",
       "8     27           62034          62034       2019\n",
       "9     25           72323          72323       2020"
      ]
     },
     "execution_count": 76,
     "metadata": {},
     "output_type": "execute_result"
>>>>>>> Stashed changes
    }
   ],
   "source": [
    "#csv to dataframe\n",
    "stolprop_df = pd.DataFrame(fbi_unformed_stolprop_ct)\n",
    "\n",
    "# Sort df by year\n",
    "stolprop_sorted = stolprop_df.sort_values('data_year')\n",
    "\n",
    "# Filter for 2011-2020 data\n",
    "stolprop_by_yr = stolprop_sorted[stolprop_sorted['data_year']>=2011]\n",
    "\n",
    "# Reset index and keep data_year as a column\n",
    "stolprop_reset = stolprop_by_yr.reset_index()\n",
    "\n",
    "pd.DataFrame(stolprop_reset)"
   ]
  },
  {
   "cell_type": "markdown",
   "id": "3e838657",
   "metadata": {},
   "source": [
    "### Stolen Property Line Plot"
   ]
  },
  {
   "cell_type": "code",
<<<<<<< Updated upstream
   "execution_count": null,
=======
   "execution_count": 77,
>>>>>>> Stashed changes
   "id": "a49b8ba6",
   "metadata": {},
   "outputs": [],
   "source": [
    "fig,ax=plt.subplots()\n",
    "ax.plot(stolprop_reset['data_year'], stolprop_reset['offense_count'], marker='o', color = 'red')\n",
    "ax.set_xlabel('Year')\n",
    "ax.set_ylabel(\"Number of Offenses\")\n",
    "ax.set_title('FBI Crime Data:  Stolen Property')\n",
    "plt.show()"
   ]
  },
  {
   "cell_type": "markdown",
>>>>>>> Stashed changes
   "id": "c9362d12",
   "metadata": {},
   "source": [
    "## Unemployment Rate"
   ]
  },
  {
   "cell_type": "code",
<<<<<<< Updated upstream
   "execution_count": null,
=======
   "execution_count": 117,
>>>>>>> Stashed changes
   "id": "02909303",
   "metadata": {},
   "outputs": [
    {
     "name": "stdout",
     "output_type": "stream",
     "text": [
      "        seriesID  year month rate footnotes\n",
      "0    LNS14000000  2020   M12  6.7          \n",
      "1    LNS14000000  2020   M11  6.7          \n",
      "2    LNS14000000  2020   M10  6.9          \n",
      "3    LNS14000000  2020   M09  7.8          \n",
      "4    LNS14000000  2020   M08  8.4          \n",
      "..           ...   ...   ...  ...       ...\n",
      "115  LNS14000000  2011   M05  9.0          \n",
      "116  LNS14000000  2011   M04  9.1          \n",
      "117  LNS14000000  2011   M03  9.0          \n",
      "118  LNS14000000  2011   M02  9.0          \n",
      "119  LNS14000000  2011   M01  9.1          \n",
      "\n",
      "[120 rows x 5 columns]\n"
     ]
    }
   ],
   "source": [
<<<<<<< Updated upstream
    "#API call"
=======
    "#BLS JSON request\n",
    "base_url=\"https://api.bls.gov/publicAPI/v2/timeseries/data/?registrationkey=\"+BLS_api_key+\"&catalog=false&startyear=2011&endyear=2020&calculations=true&annualaverage=true&aspects=true\"\n",
    "\n",
    "new_list =[]\n",
    "\n",
    "headers = {'Content-type': 'application/json'}\n",
    "data = json.dumps({\"seriesid\": [\"LNS14000000\"],\"startyear\":\"2011\", \"endyear\":\"2020\"})\n",
    "bls_unemp = requests.post('https://api.bls.gov/publicAPI/v2/timeseries/data/', data=data, headers=headers)\n",
    "bls_json_data_unemp = json.loads(bls_unemp.text)\n",
    "\n",
    "\n",
    "for series in bls_json_data_unemp['Results']['series']:\n",
    "    x=prettytable.PrettyTable([\"series id\",\"year\",\"period\",\"value\",\"footnotes\"])\n",
    "    seriesId = series['seriesID']\n",
    "    for item in series['data']:\n",
    "        year = item['year']\n",
    "        period = item['period']\n",
    "        value = item['value']\n",
    "        footnotes=\"\"\n",
    "        for footnote in item['footnotes']:\n",
    "            if footnote:\n",
    "                footnotes = footnotes + footnote['text'] + ','\n",
    "        if 'M01' <= period <= 'M12':\n",
    "            x.add_row([seriesId,year,period,value,footnotes[0:-1]])\n",
    "            unemp_list=[seriesId,year,period,value,footnotes[0:-1]]\n",
    "            new_list.append(unemp_list)\n",
    "    output = open(seriesId + '.txt','w')\n",
    "    output.write (x.get_string())\n",
    "    output.close()\n",
    "\n",
    "\n",
    "unemp_df=pd.DataFrame(new_list)\n",
    "unemp_df=unemp_df.rename(columns={0:'seriesID',1:'year',2:'month',3:'rate', 4:'footnotes'})\n",
    "\n",
    "print(unemp_df)"
>>>>>>> Stashed changes
   ]
  },
  {
   "cell_type": "code",
<<<<<<< Updated upstream
   "execution_count": null,
=======
   "execution_count": 122,
>>>>>>> Stashed changes
   "id": "59aef716",
   "metadata": {},
   "outputs": [
    {
     "ename": "KeyError",
     "evalue": "'year'",
     "output_type": "error",
     "traceback": [
      "\u001b[1;31m---------------------------------------------------------------------------\u001b[0m",
      "\u001b[1;31mKeyError\u001b[0m                                  Traceback (most recent call last)",
      "\u001b[1;32mC:\\Users\\JMORTE~1\\AppData\\Local\\Temp/ipykernel_15292/3175437878.py\u001b[0m in \u001b[0;36m<module>\u001b[1;34m\u001b[0m\n\u001b[0;32m      2\u001b[0m \u001b[1;33m\u001b[0m\u001b[0m\n\u001b[0;32m      3\u001b[0m \u001b[1;31m#sort by year\u001b[0m\u001b[1;33m\u001b[0m\u001b[1;33m\u001b[0m\u001b[0m\n\u001b[1;32m----> 4\u001b[1;33m \u001b[0munemp_sorted\u001b[0m\u001b[1;33m=\u001b[0m\u001b[0munemp_df\u001b[0m\u001b[1;33m.\u001b[0m\u001b[0msort_values\u001b[0m\u001b[1;33m(\u001b[0m\u001b[0mby\u001b[0m\u001b[1;33m=\u001b[0m\u001b[1;33m[\u001b[0m\u001b[1;34m'year'\u001b[0m\u001b[1;33m,\u001b[0m\u001b[1;34m'month'\u001b[0m\u001b[1;33m]\u001b[0m\u001b[1;33m)\u001b[0m\u001b[1;33m\u001b[0m\u001b[1;33m\u001b[0m\u001b[0m\n\u001b[0m\u001b[0;32m      5\u001b[0m \u001b[0mpd\u001b[0m\u001b[1;33m.\u001b[0m\u001b[0mDataFrame\u001b[0m\u001b[1;33m(\u001b[0m\u001b[0munemp_sorted\u001b[0m\u001b[1;33m)\u001b[0m\u001b[1;33m\u001b[0m\u001b[1;33m\u001b[0m\u001b[0m\n\u001b[0;32m      6\u001b[0m \u001b[1;33m\u001b[0m\u001b[0m\n",
      "\u001b[1;32m~\\AppData\\Local\\Programs\\Python\\Python39\\lib\\site-packages\\pandas\\util\\_decorators.py\u001b[0m in \u001b[0;36mwrapper\u001b[1;34m(*args, **kwargs)\u001b[0m\n\u001b[0;32m    309\u001b[0m                     \u001b[0mstacklevel\u001b[0m\u001b[1;33m=\u001b[0m\u001b[0mstacklevel\u001b[0m\u001b[1;33m,\u001b[0m\u001b[1;33m\u001b[0m\u001b[1;33m\u001b[0m\u001b[0m\n\u001b[0;32m    310\u001b[0m                 )\n\u001b[1;32m--> 311\u001b[1;33m             \u001b[1;32mreturn\u001b[0m \u001b[0mfunc\u001b[0m\u001b[1;33m(\u001b[0m\u001b[1;33m*\u001b[0m\u001b[0margs\u001b[0m\u001b[1;33m,\u001b[0m \u001b[1;33m**\u001b[0m\u001b[0mkwargs\u001b[0m\u001b[1;33m)\u001b[0m\u001b[1;33m\u001b[0m\u001b[1;33m\u001b[0m\u001b[0m\n\u001b[0m\u001b[0;32m    312\u001b[0m \u001b[1;33m\u001b[0m\u001b[0m\n\u001b[0;32m    313\u001b[0m         \u001b[1;32mreturn\u001b[0m \u001b[0mwrapper\u001b[0m\u001b[1;33m\u001b[0m\u001b[1;33m\u001b[0m\u001b[0m\n",
      "\u001b[1;32m~\\AppData\\Local\\Programs\\Python\\Python39\\lib\\site-packages\\pandas\\core\\frame.py\u001b[0m in \u001b[0;36msort_values\u001b[1;34m(self, by, axis, ascending, inplace, kind, na_position, ignore_index, key)\u001b[0m\n\u001b[0;32m   6240\u001b[0m         \u001b[1;32mif\u001b[0m \u001b[0mlen\u001b[0m\u001b[1;33m(\u001b[0m\u001b[0mby\u001b[0m\u001b[1;33m)\u001b[0m \u001b[1;33m>\u001b[0m \u001b[1;36m1\u001b[0m\u001b[1;33m:\u001b[0m\u001b[1;33m\u001b[0m\u001b[1;33m\u001b[0m\u001b[0m\n\u001b[0;32m   6241\u001b[0m \u001b[1;33m\u001b[0m\u001b[0m\n\u001b[1;32m-> 6242\u001b[1;33m             \u001b[0mkeys\u001b[0m \u001b[1;33m=\u001b[0m \u001b[1;33m[\u001b[0m\u001b[0mself\u001b[0m\u001b[1;33m.\u001b[0m\u001b[0m_get_label_or_level_values\u001b[0m\u001b[1;33m(\u001b[0m\u001b[0mx\u001b[0m\u001b[1;33m,\u001b[0m \u001b[0maxis\u001b[0m\u001b[1;33m=\u001b[0m\u001b[0maxis\u001b[0m\u001b[1;33m)\u001b[0m \u001b[1;32mfor\u001b[0m \u001b[0mx\u001b[0m \u001b[1;32min\u001b[0m \u001b[0mby\u001b[0m\u001b[1;33m]\u001b[0m\u001b[1;33m\u001b[0m\u001b[1;33m\u001b[0m\u001b[0m\n\u001b[0m\u001b[0;32m   6243\u001b[0m \u001b[1;33m\u001b[0m\u001b[0m\n\u001b[0;32m   6244\u001b[0m             \u001b[1;31m# need to rewrap columns in Series to apply key function\u001b[0m\u001b[1;33m\u001b[0m\u001b[1;33m\u001b[0m\u001b[0m\n",
      "\u001b[1;32m~\\AppData\\Local\\Programs\\Python\\Python39\\lib\\site-packages\\pandas\\core\\frame.py\u001b[0m in \u001b[0;36m<listcomp>\u001b[1;34m(.0)\u001b[0m\n\u001b[0;32m   6240\u001b[0m         \u001b[1;32mif\u001b[0m \u001b[0mlen\u001b[0m\u001b[1;33m(\u001b[0m\u001b[0mby\u001b[0m\u001b[1;33m)\u001b[0m \u001b[1;33m>\u001b[0m \u001b[1;36m1\u001b[0m\u001b[1;33m:\u001b[0m\u001b[1;33m\u001b[0m\u001b[1;33m\u001b[0m\u001b[0m\n\u001b[0;32m   6241\u001b[0m \u001b[1;33m\u001b[0m\u001b[0m\n\u001b[1;32m-> 6242\u001b[1;33m             \u001b[0mkeys\u001b[0m \u001b[1;33m=\u001b[0m \u001b[1;33m[\u001b[0m\u001b[0mself\u001b[0m\u001b[1;33m.\u001b[0m\u001b[0m_get_label_or_level_values\u001b[0m\u001b[1;33m(\u001b[0m\u001b[0mx\u001b[0m\u001b[1;33m,\u001b[0m \u001b[0maxis\u001b[0m\u001b[1;33m=\u001b[0m\u001b[0maxis\u001b[0m\u001b[1;33m)\u001b[0m \u001b[1;32mfor\u001b[0m \u001b[0mx\u001b[0m \u001b[1;32min\u001b[0m \u001b[0mby\u001b[0m\u001b[1;33m]\u001b[0m\u001b[1;33m\u001b[0m\u001b[1;33m\u001b[0m\u001b[0m\n\u001b[0m\u001b[0;32m   6243\u001b[0m \u001b[1;33m\u001b[0m\u001b[0m\n\u001b[0;32m   6244\u001b[0m             \u001b[1;31m# need to rewrap columns in Series to apply key function\u001b[0m\u001b[1;33m\u001b[0m\u001b[1;33m\u001b[0m\u001b[0m\n",
      "\u001b[1;32m~\\AppData\\Local\\Programs\\Python\\Python39\\lib\\site-packages\\pandas\\core\\generic.py\u001b[0m in \u001b[0;36m_get_label_or_level_values\u001b[1;34m(self, key, axis)\u001b[0m\n\u001b[0;32m   1777\u001b[0m             \u001b[0mvalues\u001b[0m \u001b[1;33m=\u001b[0m \u001b[0mself\u001b[0m\u001b[1;33m.\u001b[0m\u001b[0maxes\u001b[0m\u001b[1;33m[\u001b[0m\u001b[0maxis\u001b[0m\u001b[1;33m]\u001b[0m\u001b[1;33m.\u001b[0m\u001b[0mget_level_values\u001b[0m\u001b[1;33m(\u001b[0m\u001b[0mkey\u001b[0m\u001b[1;33m)\u001b[0m\u001b[1;33m.\u001b[0m\u001b[0m_values\u001b[0m\u001b[1;33m\u001b[0m\u001b[1;33m\u001b[0m\u001b[0m\n\u001b[0;32m   1778\u001b[0m         \u001b[1;32melse\u001b[0m\u001b[1;33m:\u001b[0m\u001b[1;33m\u001b[0m\u001b[1;33m\u001b[0m\u001b[0m\n\u001b[1;32m-> 1779\u001b[1;33m             \u001b[1;32mraise\u001b[0m \u001b[0mKeyError\u001b[0m\u001b[1;33m(\u001b[0m\u001b[0mkey\u001b[0m\u001b[1;33m)\u001b[0m\u001b[1;33m\u001b[0m\u001b[1;33m\u001b[0m\u001b[0m\n\u001b[0m\u001b[0;32m   1780\u001b[0m \u001b[1;33m\u001b[0m\u001b[0m\n\u001b[0;32m   1781\u001b[0m         \u001b[1;31m# Check for duplicates\u001b[0m\u001b[1;33m\u001b[0m\u001b[1;33m\u001b[0m\u001b[0m\n",
      "\u001b[1;31mKeyError\u001b[0m: 'year'"
     ]
    }
   ],
   "source": [
<<<<<<< Updated upstream
    "#data to json to csv"
=======
    "#creating unemployment dataframe\n",
    "\n",
    "#sort by year\n",
    "unemp_sorted=unemp_df.sort_values(by=['year','month'])\n",
    "pd.DataFrame(unemp_sorted)\n",
    "\n",
    "# average unemployment rates by year\n",
    "#unemp_by_yr=unemp_sorted.groupby('year').mean('rate')\n"
>>>>>>> Stashed changes
   ]
  },
  {
   "cell_type": "code",
   "execution_count": 120,
   "id": "6f682ce0",
   "metadata": {},
   "outputs": [
    {
     "name": "stdout",
     "output_type": "stream",
     "text": [
      "Empty DataFrame\n",
      "Columns: []\n",
      "Index: [2011, 2012, 2013, 2014, 2015, 2016, 2017, 2018, 2019, 2020]\n"
     ]
    }
   ],
   "source": [
<<<<<<< Updated upstream
    "#csv to dataframe"
=======
    "#csv to dataframe\n",
    "\n",
    "print(unemp_by_yr)\n",
    "# Filter for 2011-2020 data\n",
    "#unemp_by_yr = unemp_sorted[unemp_sorted['year']>=2011]\n",
    "\n",
    "# Reset index and keep data_year as a column\n",
    "#unemp_reset = unemp_by_yr.reset_index()\n",
    "\n",
    "#pd.DataFrame(unemp_reset)"
>>>>>>> Stashed changes
   ]
  },
  {
   "cell_type": "markdown",
   "id": "f68c6dc4",
   "metadata": {},
   "source": [
    "### Unemployment Rate Line Plot"
   ]
  },
  {
   "cell_type": "code",
   "execution_count": 82,
   "id": "ac4f0841",
   "metadata": {},
   "outputs": [
    {
     "ename": "NameError",
     "evalue": "name 'unemp_reset' is not defined",
     "output_type": "error",
     "traceback": [
      "\u001b[1;31m---------------------------------------------------------------------------\u001b[0m",
      "\u001b[1;31mNameError\u001b[0m                                 Traceback (most recent call last)",
      "\u001b[1;32mC:\\Users\\JMORTE~1\\AppData\\Local\\Temp/ipykernel_15292/3461759707.py\u001b[0m in \u001b[0;36m<module>\u001b[1;34m\u001b[0m\n\u001b[0;32m      1\u001b[0m \u001b[0mfig\u001b[0m\u001b[1;33m,\u001b[0m\u001b[0max\u001b[0m\u001b[1;33m=\u001b[0m\u001b[0mplt\u001b[0m\u001b[1;33m.\u001b[0m\u001b[0msubplots\u001b[0m\u001b[1;33m(\u001b[0m\u001b[1;33m)\u001b[0m\u001b[1;33m\u001b[0m\u001b[1;33m\u001b[0m\u001b[0m\n\u001b[1;32m----> 2\u001b[1;33m \u001b[0max\u001b[0m\u001b[1;33m.\u001b[0m\u001b[0mplot\u001b[0m\u001b[1;33m(\u001b[0m\u001b[0munemp_reset\u001b[0m\u001b[1;33m[\u001b[0m\u001b[1;34m'year'\u001b[0m\u001b[1;33m]\u001b[0m\u001b[1;33m,\u001b[0m \u001b[0munemp_reset\u001b[0m\u001b[1;33m[\u001b[0m\u001b[1;34m'offense_count'\u001b[0m\u001b[1;33m]\u001b[0m\u001b[1;33m,\u001b[0m \u001b[0mmarker\u001b[0m\u001b[1;33m=\u001b[0m\u001b[1;34m'o'\u001b[0m\u001b[1;33m,\u001b[0m \u001b[0mcolor\u001b[0m \u001b[1;33m=\u001b[0m \u001b[1;34m'red'\u001b[0m\u001b[1;33m)\u001b[0m\u001b[1;33m\u001b[0m\u001b[1;33m\u001b[0m\u001b[0m\n\u001b[0m\u001b[0;32m      3\u001b[0m \u001b[0max\u001b[0m\u001b[1;33m.\u001b[0m\u001b[0mset_xlabel\u001b[0m\u001b[1;33m(\u001b[0m\u001b[1;34m'Year'\u001b[0m\u001b[1;33m)\u001b[0m\u001b[1;33m\u001b[0m\u001b[1;33m\u001b[0m\u001b[0m\n\u001b[0;32m      4\u001b[0m \u001b[0max\u001b[0m\u001b[1;33m.\u001b[0m\u001b[0mset_ylabel\u001b[0m\u001b[1;33m(\u001b[0m\u001b[1;34m\"Rate (%)\"\u001b[0m\u001b[1;33m)\u001b[0m\u001b[1;33m\u001b[0m\u001b[1;33m\u001b[0m\u001b[0m\n\u001b[0;32m      5\u001b[0m \u001b[0max\u001b[0m\u001b[1;33m.\u001b[0m\u001b[0mset_title\u001b[0m\u001b[1;33m(\u001b[0m\u001b[1;34m'BLS Crime Data:  Unemployment'\u001b[0m\u001b[1;33m)\u001b[0m\u001b[1;33m\u001b[0m\u001b[1;33m\u001b[0m\u001b[0m\n",
      "\u001b[1;31mNameError\u001b[0m: name 'unemp_reset' is not defined"
     ]
    },
    {
     "data": {
      "image/png": "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\n",
      "text/plain": [
       "<Figure size 432x288 with 1 Axes>"
      ]
     },
     "metadata": {},
     "output_type": "display_data"
    }
   ],
   "source": [
    "fig,ax=plt.subplots()\n",
    "ax.plot(unemp_reset['year'], unemp_reset['offense_count'], marker='o', color = 'red')\n",
    "ax.set_xlabel('Year')\n",
    "ax.set_ylabel(\"Rate (%)\")\n",
    "ax.set_title('BLS Crime Data:  Unemployment')\n",
    "plt.show()"
   ]
  },
  {
   "cell_type": "markdown",
   "id": "775b3d50",
   "metadata": {},
   "source": [
    "Unemployment trend summary:"
   ]
  },
  {
   "cell_type": "markdown",
   "id": "1bb58d4a",
   "metadata": {},
   "source": [
    "## Comparing Property Theft and Unemployment Over 10 Years"
   ]
  },
  {
   "cell_type": "code",
   "execution_count": null,
   "id": "c2ea2e18",
   "metadata": {},
   "outputs": [],
   "source": [
    "#relplot"
   ]
  },
  {
   "cell_type": "markdown",
   "id": "eebb5d8a",
   "metadata": {},
   "source": [
    "Comparisons, trends, notable features of the data"
   ]
  },
  {
   "cell_type": "markdown",
   "id": "09238907",
   "metadata": {},
   "source": [
    "## Lessons Learned"
   ]
  },
  {
   "cell_type": "markdown",
   "id": "e9757572",
   "metadata": {},
   "source": [
    "1) Be careful of data that isn't labeled clearly; for example, \"value\" in the unemployment data was extremely vague\n",
    "and required extra research.\n",
    "\n",
    "2) It follows from the first point, but information literacy is important. It's not enough to be able to manipulate the data; we have to be able to figure out what data has been included and whether the labels are accurate (in the course of the project, some data were represented as is more usual in the statistics and economics fields as a way of abbreviating large numbers \"normalized x100,000\").\n",
    "\n",
    "3) Sometimes data will be stored using unfamiliar python modules, like \"prettytable,\" which needs to be downloaded in addition to the usual suspects."
   ]
  }
 ],
 "metadata": {
  "kernelspec": {
   "display_name": "Python 3 (ipykernel)",
   "language": "python",
   "name": "python3"
  },
  "language_info": {
   "codemirror_mode": {
    "name": "ipython",
    "version": 3
   },
   "file_extension": ".py",
   "mimetype": "text/x-python",
   "name": "python",
   "nbconvert_exporter": "python",
   "pygments_lexer": "ipython3",
   "version": "3.9.7"
  }
 },
 "nbformat": 4,
 "nbformat_minor": 5
}
