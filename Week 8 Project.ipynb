{
 "cells": [
  {
   "cell_type": "markdown",
   "id": "53d3e18e",
   "metadata": {},
   "source": [
    "# Questions about the Data\n",
    "\n",
    "What, if any, relationship is there between national property crime rates versus unemployment rates in 2010?  \n",
    "in 2020?  \n",
    "\n",
    "Is there a noticeable difference in that potential correlation when comparing the data from the two different years?\n",
    "\n",
    "Is there a stronger correlation in one sub-group of property crimes than the others?"
   ]
  },
  {
   "cell_type": "code",
   "execution_count": null,
   "id": "d90c77b1",
   "metadata": {},
   "outputs": [],
   "source": []
  }
 ],
 "metadata": {
  "kernelspec": {
   "display_name": "Python 3 (ipykernel)",
   "language": "python",
   "name": "python3"
  },
  "language_info": {
   "codemirror_mode": {
    "name": "ipython",
    "version": 3
   },
   "file_extension": ".py",
   "mimetype": "text/x-python",
   "name": "python",
   "nbconvert_exporter": "python",
   "pygments_lexer": "ipython3",
   "version": "3.9.7"
  }
 },
 "nbformat": 4,
 "nbformat_minor": 5
}
